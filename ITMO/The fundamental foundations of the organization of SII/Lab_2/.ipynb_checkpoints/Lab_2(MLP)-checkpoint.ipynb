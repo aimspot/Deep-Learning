{
 "cells": [
  {
   "cell_type": "code",
   "execution_count": 1,
   "id": "1f60fd48",
   "metadata": {},
   "outputs": [],
   "source": [
    "import pandas as pd\n",
    "import numpy as np\n",
    "import random\n",
    "from sklearn import preprocessing \n",
    "from sklearn.preprocessing import OneHotEncoder\n",
    "from sklearn.metrics import confusion_matrix\n",
    "import seaborn as sns\n",
    "import matplotlib as plt\n",
    "from functools import reduce\n",
    "from sklearn.metrics import roc_curve\n",
    "import matplotlib.pyplot as plt"
   ]
  },
  {
   "cell_type": "markdown",
   "id": "c39a0396",
   "metadata": {},
   "source": [
    "### Считываем данные и задаём заголовки"
   ]
  },
  {
   "cell_type": "code",
   "execution_count": 2,
   "id": "a6fa70e8",
   "metadata": {},
   "outputs": [],
   "source": [
    "df = pd.read_csv('data/Mushroom_dataset.csv', delimiter=',', \n",
    "                    names=['Edibility', 'Сap-shape', 'Сap-surface', 'Cap-color', 'Bruises', 'Odor',\n",
    "                          'Gill-Attachment', 'Gill-Spacing', 'Gill-Size', 'Gill-Color', \n",
    "                           'Stalk-Shape', 'Stalk-Root', 'Stalk-Surface-Above-Ring', 'Stalk-Surface-Below-Ring',\n",
    "                          'Stalk-Color-Above-Ring','Stalk-Color-Below-Ring', 'Veil-Type','Veil-Color', 'Ring-Number',\n",
    "                          'Ring-Type', 'Spore-Print-Color', 'Population', 'Habitat'])  "
   ]
  },
  {
   "cell_type": "code",
   "execution_count": 3,
   "id": "86ba787e",
   "metadata": {},
   "outputs": [
    {
     "data": {
      "text/html": [
       "<div>\n",
       "<style scoped>\n",
       "    .dataframe tbody tr th:only-of-type {\n",
       "        vertical-align: middle;\n",
       "    }\n",
       "\n",
       "    .dataframe tbody tr th {\n",
       "        vertical-align: top;\n",
       "    }\n",
       "\n",
       "    .dataframe thead th {\n",
       "        text-align: right;\n",
       "    }\n",
       "</style>\n",
       "<table border=\"1\" class=\"dataframe\">\n",
       "  <thead>\n",
       "    <tr style=\"text-align: right;\">\n",
       "      <th></th>\n",
       "      <th>Edibility</th>\n",
       "      <th>Сap-shape</th>\n",
       "      <th>Сap-surface</th>\n",
       "      <th>Cap-color</th>\n",
       "      <th>Bruises</th>\n",
       "      <th>Odor</th>\n",
       "      <th>Gill-Attachment</th>\n",
       "      <th>Gill-Spacing</th>\n",
       "      <th>Gill-Size</th>\n",
       "      <th>Gill-Color</th>\n",
       "      <th>...</th>\n",
       "      <th>Stalk-Surface-Below-Ring</th>\n",
       "      <th>Stalk-Color-Above-Ring</th>\n",
       "      <th>Stalk-Color-Below-Ring</th>\n",
       "      <th>Veil-Type</th>\n",
       "      <th>Veil-Color</th>\n",
       "      <th>Ring-Number</th>\n",
       "      <th>Ring-Type</th>\n",
       "      <th>Spore-Print-Color</th>\n",
       "      <th>Population</th>\n",
       "      <th>Habitat</th>\n",
       "    </tr>\n",
       "  </thead>\n",
       "  <tbody>\n",
       "    <tr>\n",
       "      <th>count</th>\n",
       "      <td>8416</td>\n",
       "      <td>8416</td>\n",
       "      <td>8416</td>\n",
       "      <td>8416</td>\n",
       "      <td>8416</td>\n",
       "      <td>8416</td>\n",
       "      <td>8416</td>\n",
       "      <td>8416</td>\n",
       "      <td>8416</td>\n",
       "      <td>8416</td>\n",
       "      <td>...</td>\n",
       "      <td>8416</td>\n",
       "      <td>8416</td>\n",
       "      <td>8416</td>\n",
       "      <td>8416</td>\n",
       "      <td>8416</td>\n",
       "      <td>8416</td>\n",
       "      <td>8416</td>\n",
       "      <td>8416</td>\n",
       "      <td>8416</td>\n",
       "      <td>8416</td>\n",
       "    </tr>\n",
       "    <tr>\n",
       "      <th>unique</th>\n",
       "      <td>2</td>\n",
       "      <td>6</td>\n",
       "      <td>4</td>\n",
       "      <td>10</td>\n",
       "      <td>2</td>\n",
       "      <td>9</td>\n",
       "      <td>2</td>\n",
       "      <td>2</td>\n",
       "      <td>2</td>\n",
       "      <td>12</td>\n",
       "      <td>...</td>\n",
       "      <td>4</td>\n",
       "      <td>9</td>\n",
       "      <td>9</td>\n",
       "      <td>1</td>\n",
       "      <td>4</td>\n",
       "      <td>3</td>\n",
       "      <td>5</td>\n",
       "      <td>9</td>\n",
       "      <td>6</td>\n",
       "      <td>7</td>\n",
       "    </tr>\n",
       "    <tr>\n",
       "      <th>top</th>\n",
       "      <td>EDIBLE</td>\n",
       "      <td>CONVEX</td>\n",
       "      <td>SCALY</td>\n",
       "      <td>BROWN</td>\n",
       "      <td>NO</td>\n",
       "      <td>NONE</td>\n",
       "      <td>FREE</td>\n",
       "      <td>CLOSE</td>\n",
       "      <td>BROAD</td>\n",
       "      <td>BUFF</td>\n",
       "      <td>...</td>\n",
       "      <td>SMOOTH</td>\n",
       "      <td>WHITE</td>\n",
       "      <td>WHITE</td>\n",
       "      <td>PARTIAL</td>\n",
       "      <td>WHITE</td>\n",
       "      <td>ONE</td>\n",
       "      <td>PENDANT</td>\n",
       "      <td>WHITE</td>\n",
       "      <td>SEVERAL</td>\n",
       "      <td>WOODS</td>\n",
       "    </tr>\n",
       "    <tr>\n",
       "      <th>freq</th>\n",
       "      <td>4488</td>\n",
       "      <td>3796</td>\n",
       "      <td>3268</td>\n",
       "      <td>2320</td>\n",
       "      <td>5040</td>\n",
       "      <td>3808</td>\n",
       "      <td>8200</td>\n",
       "      <td>6824</td>\n",
       "      <td>5880</td>\n",
       "      <td>1728</td>\n",
       "      <td>...</td>\n",
       "      <td>5076</td>\n",
       "      <td>4744</td>\n",
       "      <td>4640</td>\n",
       "      <td>8416</td>\n",
       "      <td>8216</td>\n",
       "      <td>7768</td>\n",
       "      <td>3968</td>\n",
       "      <td>2424</td>\n",
       "      <td>4064</td>\n",
       "      <td>3160</td>\n",
       "    </tr>\n",
       "  </tbody>\n",
       "</table>\n",
       "<p>4 rows × 23 columns</p>\n",
       "</div>"
      ],
      "text/plain": [
       "       Edibility Сap-shape Сap-surface Cap-color Bruises  Odor  \\\n",
       "count       8416      8416        8416      8416    8416  8416   \n",
       "unique         2         6           4        10       2     9   \n",
       "top       EDIBLE    CONVEX       SCALY     BROWN      NO  NONE   \n",
       "freq        4488      3796        3268      2320    5040  3808   \n",
       "\n",
       "       Gill-Attachment Gill-Spacing Gill-Size Gill-Color  ...  \\\n",
       "count             8416         8416      8416       8416  ...   \n",
       "unique               2            2         2         12  ...   \n",
       "top               FREE        CLOSE     BROAD       BUFF  ...   \n",
       "freq              8200         6824      5880       1728  ...   \n",
       "\n",
       "       Stalk-Surface-Below-Ring Stalk-Color-Above-Ring Stalk-Color-Below-Ring  \\\n",
       "count                      8416                   8416                   8416   \n",
       "unique                        4                      9                      9   \n",
       "top                      SMOOTH                  WHITE                  WHITE   \n",
       "freq                       5076                   4744                   4640   \n",
       "\n",
       "       Veil-Type Veil-Color Ring-Number Ring-Type Spore-Print-Color  \\\n",
       "count       8416       8416        8416      8416              8416   \n",
       "unique         1          4           3         5                 9   \n",
       "top      PARTIAL      WHITE         ONE   PENDANT             WHITE   \n",
       "freq        8416       8216        7768      3968              2424   \n",
       "\n",
       "       Population Habitat  \n",
       "count        8416    8416  \n",
       "unique          6       7  \n",
       "top       SEVERAL   WOODS  \n",
       "freq         4064    3160  \n",
       "\n",
       "[4 rows x 23 columns]"
      ]
     },
     "execution_count": 3,
     "metadata": {},
     "output_type": "execute_result"
    }
   ],
   "source": [
    "df.describe()"
   ]
  },
  {
   "cell_type": "markdown",
   "id": "a540cbbe",
   "metadata": {},
   "source": [
    "### Применяем LabelEncoder к каждому столбцу"
   ]
  },
  {
   "cell_type": "code",
   "execution_count": 4,
   "id": "7054cb3a",
   "metadata": {},
   "outputs": [
    {
     "data": {
      "text/plain": [
       "Index(['Habitat', 'Population', 'Spore-Print-Color', 'Ring-Type',\n",
       "       'Ring-Number', 'Veil-Color', 'Veil-Type', 'Stalk-Color-Below-Ring',\n",
       "       'Stalk-Color-Above-Ring', 'Stalk-Surface-Below-Ring',\n",
       "       'Stalk-Surface-Above-Ring', 'Stalk-Root', 'Stalk-Shape', 'Gill-Color',\n",
       "       'Gill-Size', 'Gill-Spacing', 'Gill-Attachment', 'Odor', 'Bruises',\n",
       "       'Cap-color', 'Сap-surface', 'Сap-shape', 'Edibility'],\n",
       "      dtype='object')"
      ]
     },
     "execution_count": 4,
     "metadata": {},
     "output_type": "execute_result"
    }
   ],
   "source": [
    "name = df.columns[::-1]\n",
    "name"
   ]
  },
  {
   "cell_type": "code",
   "execution_count": 5,
   "id": "9e6663c7",
   "metadata": {},
   "outputs": [],
   "source": [
    "name = df.columns\n",
    "for i in name:\n",
    "    le = preprocessing.LabelEncoder()\n",
    "    le.fit(df[i])\n",
    "    df[i] = le.transform(df[i])\n",
    " "
   ]
  },
  {
   "cell_type": "markdown",
   "id": "c0689b94",
   "metadata": {},
   "source": [
    "###  Разбиваем на test и train выборки"
   ]
  },
  {
   "cell_type": "code",
   "execution_count": 6,
   "id": "83befd2b",
   "metadata": {},
   "outputs": [],
   "source": [
    "X = df.iloc[:, 1:]\n",
    "Y = df.iloc[:, 0]"
   ]
  },
  {
   "cell_type": "code",
   "execution_count": 7,
   "id": "cac43267",
   "metadata": {},
   "outputs": [],
   "source": [
    "train_percent = 80 # Процент тестовой формирует исходя из значения обучающей выборки"
   ]
  },
  {
   "cell_type": "code",
   "execution_count": 8,
   "id": "1ffd4942",
   "metadata": {},
   "outputs": [],
   "source": [
    "def train_test_split_X(data, train_percent):\n",
    "    train = list()\n",
    "    test = list()\n",
    "    for i in range(0, len(data)):\n",
    "        if i <= len(data) * 0.8:\n",
    "            train.append(data.iloc[i,:])\n",
    "        else:\n",
    "            test.append(data.iloc[i,:])\n",
    "    return np.array(train), np.array(test)"
   ]
  },
  {
   "cell_type": "code",
   "execution_count": 9,
   "id": "81595236",
   "metadata": {},
   "outputs": [],
   "source": [
    "def train_test_split_Y(data, train_percent):\n",
    "    train = list()\n",
    "    test = list()\n",
    "    for i in range(0, len(data)):\n",
    "        if i <= len(data) * 0.8:\n",
    "            train.append(data[i])\n",
    "        else:\n",
    "            test.append(data[i])\n",
    "    return np.array(train), np.array(test)"
   ]
  },
  {
   "cell_type": "code",
   "execution_count": 10,
   "id": "38ba3bac",
   "metadata": {},
   "outputs": [],
   "source": [
    "trainX, testX = train_test_split_X(X, train_percent)\n",
    "trainY, testY = train_test_split_Y(Y, train_percent)"
   ]
  },
  {
   "cell_type": "code",
   "execution_count": 11,
   "id": "657706a0",
   "metadata": {},
   "outputs": [
    {
     "name": "stdout",
     "output_type": "stream",
     "text": [
      "[1 1 1 ... 0 0 0]\n"
     ]
    }
   ],
   "source": [
    "print(testY)"
   ]
  },
  {
   "cell_type": "markdown",
   "id": "d1a212b0",
   "metadata": {},
   "source": [
    "## Создаём свою архитектуру"
   ]
  },
  {
   "cell_type": "code",
   "execution_count": 24,
   "id": "869573f7",
   "metadata": {},
   "outputs": [],
   "source": [
    "class MLP:\n",
    "    np.random.seed(10)\n",
    "       \n",
    "    def __init__(self, epoch, lr) :\n",
    "        self.HiddenLayer = []\n",
    "        self.w = [] # веса\n",
    "        self.b = []\n",
    "        self.act = [] # функции активации \n",
    "        self.mu = [] # функция затрат\n",
    "        self.lr = lr\n",
    "        self.epochs = epoch\n",
    "        \n",
    "    #Добавления слоя\n",
    "    def add(self, lay = (4) ):\n",
    "        self.HiddenLayer.append(lay)\n",
    "        \n",
    "    #Метод для прохода вперёд\n",
    "    @staticmethod\n",
    "    def FeedForward(w, b, act, x):\n",
    "        return act(np.dot(w, x) + b)\n",
    "    \n",
    "    \n",
    "    def BackPropagation(self, x, z, Y, w, b, act):\n",
    "        self.delta = []\n",
    "        \n",
    "        \n",
    "        self.W = []\n",
    "        self.B = []\n",
    "        \n",
    "        # Считаем ошибку выходного слоя\n",
    "        self.delta.append((z[len(z)-1] - Y) * act[len(z)-1](z[len(z)-1], der=True) )\n",
    "        \n",
    "\n",
    "        # Считаем ошибку для следующих слоёв (np.dot - перемножает и суммирует)\n",
    "        for i in range(0, len(z)-1):\n",
    "            self.delta.append( np.dot( self.delta[i], w[len(z)- 1 - i] ) * act[len(z)- 2 - i](z[len(z)- 2 - i], der=True) )\n",
    "        \n",
    "        # Переворачиваем массив ошибок\n",
    "        self.delta = np.flip(self.delta, 0)  \n",
    "        \n",
    "        # Делим дельту на количество элементов в обучающей выборке\n",
    "        self.delta = self.delta/self.X.shape[0] \n",
    "        \n",
    "        '''GRADIENT DESCENT'''\n",
    "        # Для первого слоя\n",
    "        self.W.append( w[0] - self.lr * np.kron(self.delta[0], x).reshape( len(z[0]), x.shape[0] ) )\n",
    "        self.B.append( b[0] - self.lr * self.delta[0] )\n",
    "        \n",
    "        # Для остальных слоёв\n",
    "        for i in range(1, len(z)):\n",
    "            self.W.append( w[i] - self.lr * np.kron(self.delta[i], z[i-1]).reshape(len(z[i]), len(z[i-1])) )\n",
    "            self.B.append( b[i] - self.lr * self.delta[i] )\n",
    "        \n",
    "        # We return the descended parameters w, b\n",
    "        return np.array(self.W), np.array(self.B)\n",
    "    \n",
    "    \n",
    "    # метод для обучения    \n",
    "    def fit(self, trainX, trainY):\n",
    "        \n",
    "        self.X = trainX\n",
    "        self.Y = trainY\n",
    "        \n",
    "        print(\"Model Architectures\")\n",
    "        \n",
    "        print(\"Number of layers: \", len(self.HiddenLayer))\n",
    "        \n",
    "        for i in range(0, len(self.HiddenLayer)) :\n",
    "            print('Layer ', i + 1)\n",
    "            print('Number of neurons: ', self.HiddenLayer[i][0])\n",
    "#                 print(\"HidenLayer\", self.HiddenLayer[i][0])\n",
    "#                 print(\"X.shape\", self.X.shape[1])\n",
    "#                 print(\"Delete\", self.HiddenLayer[i][0] , self.X.shape[1]/np.sqrt(2/self.X.shape[1]))\n",
    "\n",
    "            # Заполняем веса и б\n",
    "            if i == 0:\n",
    "                self.w.append( np.random.randn(self.HiddenLayer[i][0] , self.X.shape[1]))\n",
    "                self.b.append( np.random.randn(self.HiddenLayer[i][0]))\n",
    "            else:\n",
    "                self.w.append( np.random.randn(self.HiddenLayer[i][0] , self.HiddenLayer[i-1][0]))\n",
    "                self.b.append( np.random.randn(self.HiddenLayer[i][0]))\n",
    "\n",
    "             #Добавляем функцию активации\n",
    "            self.act.append(Activation_function.get_act())\n",
    "            print('\\tActivation: sigmoid')\n",
    "            \n",
    "        for k in range(1, self.epochs, 1):\n",
    "            print(f\"Epoch: {k}\")\n",
    "            print(\"########################################################\")\n",
    "            \n",
    "            # Идём по всему тестовому датасету\n",
    "            for I in range(0, self.X.shape[0]):\n",
    "                self.z = []\n",
    "                #Выходы первого слоя\n",
    "                self.z.append( self.FeedForward(self.w[0], self.b[0], self.act[0], self.X[I]) )\n",
    "\n",
    "                for i in range(1, len(self.HiddenLayer)):\n",
    "                    \n",
    "                    #выходы остальных слоёв\n",
    "                    self.z.append( self.FeedForward(self.w[i] , self.b[i], self.act[i], self.z[i-1] ) )\n",
    "                #запускаем бекпроп\n",
    "                self.w, self.b  = self.BackPropagation(self.X[I], self.z, self.Y[I], self.w, self.b, self.act)\n",
    "            \n",
    "        print('Model is done')\n",
    "        \n",
    "    def predict(self, testX):\n",
    "        print(\"Predicting....\")\n",
    "        self.predict = []\n",
    "        self.testXX = testX\n",
    "        \n",
    "        \n",
    "        for i in range(0, self.testXX.shape[0]):\n",
    "            self.z = []\n",
    "            self.z.append(self.FeedForward(self.w[0] , self.b[0], self.act[0], self.testXX[i])) \n",
    "            for k in range(1, len(self.HiddenLayer)) :\n",
    "                self.z.append( self.FeedForward(self.w[k] , self.b[k], self.act[k], self.z[k-1]))\n",
    "                \n",
    "            index, = np.where(self.z[-1] == (reduce(max, self.z[-1])))[0]\n",
    "            self.predict.append(index)\n",
    "            \n",
    "        print(\"Prediction is ready\")\n",
    "        return self.predict\n",
    "    \n",
    "    def metric(self, testY, pred):\n",
    "        TP = 0\n",
    "        TN = 0\n",
    "        FP = 0\n",
    "        FN = 0\n",
    "        for i,j in zip(testY, pred):\n",
    "            if i == 0 and i == 0:\n",
    "                TP = TP + 1\n",
    "            elif i == 1 and j == 0:\n",
    "                FP = FP + 1\n",
    "            elif i == 1 and j == 1:\n",
    "                TN = TN + 1\n",
    "            else:\n",
    "                FN = FN + 1\n",
    "        return TP, TN, FP, FN\n",
    "            \n",
    "            \n",
    "    \n",
    "            #print(\"Вероятность массив:\":, self.z[-1])\n",
    "        \n",
    "        \n",
    "        \n",
    "            \n",
    "            \n",
    "        \n",
    "        \n",
    "        "
   ]
  },
  {
   "cell_type": "markdown",
   "id": "b2bef278",
   "metadata": {},
   "source": [
    "### Класс слоёв"
   ]
  },
  {
   "cell_type": "code",
   "execution_count": 25,
   "id": "49804d59",
   "metadata": {},
   "outputs": [],
   "source": [
    "class layers :\n",
    "    def layer(p = 4):\n",
    "        activation = \"\"\n",
    "        return (p, activation)"
   ]
  },
  {
   "cell_type": "markdown",
   "id": "70f892ff",
   "metadata": {},
   "source": [
    "### Класс функции активации"
   ]
  },
  {
   "cell_type": "code",
   "execution_count": 26,
   "id": "d6b4a835",
   "metadata": {},
   "outputs": [],
   "source": [
    "class Activation_function(MLP):\n",
    "    \n",
    "    def __init__(self) :\n",
    "        super().__init__()\n",
    "        \n",
    "    # der отвечает за возвращение производной или самой функции\n",
    "    def sigmoid(x, der=False):\n",
    "        if der: \n",
    "            f = 1/(1+ np.exp(- x))*(1-1/(1+ np.exp(- x)))\n",
    "        else : # sigmoid\n",
    "            f = 1/(1+ np.exp(- x))\n",
    "        return f\n",
    "    \n",
    "    def get_act():\n",
    "        return Activation_function.sigmoid"
   ]
  },
  {
   "cell_type": "markdown",
   "id": "4245750b",
   "metadata": {},
   "source": [
    "### Объявление и запуск модели"
   ]
  },
  {
   "cell_type": "code",
   "execution_count": 27,
   "id": "51b7eeee",
   "metadata": {},
   "outputs": [],
   "source": [
    "model = MLP(epoch = 1, lr = 0.001)"
   ]
  },
  {
   "cell_type": "code",
   "execution_count": 28,
   "id": "53c1a91a",
   "metadata": {},
   "outputs": [],
   "source": [
    "# model.add(layers.layer(22))\n",
    "# model.add(layers.layer(64))\n",
    "# model.add(layers.layer(32))\n",
    "# model.add(layers.layer(2))\n",
    "\n",
    "model.add(layers.layer(22))\n",
    "model.add(layers.layer(8))\n",
    "model.add(layers.layer(4))\n",
    "model.add(layers.layer(2))"
   ]
  },
  {
   "cell_type": "code",
   "execution_count": 29,
   "id": "482d572f",
   "metadata": {},
   "outputs": [
    {
     "name": "stdout",
     "output_type": "stream",
     "text": [
      "Model Architectures\n",
      "Number of layers:  4\n",
      "Layer  1\n",
      "Number of neurons:  22\n",
      "\tActivation: sigmoid\n",
      "Layer  2\n",
      "Number of neurons:  8\n",
      "\tActivation: sigmoid\n",
      "Layer  3\n",
      "Number of neurons:  4\n",
      "\tActivation: sigmoid\n",
      "Layer  4\n",
      "Number of neurons:  2\n",
      "\tActivation: sigmoid\n",
      "Model is done\n"
     ]
    }
   ],
   "source": [
    "model.fit(trainX, trainY)"
   ]
  },
  {
   "cell_type": "markdown",
   "id": "f6e16b75",
   "metadata": {},
   "source": [
    "### Получение результатов\n"
   ]
  },
  {
   "cell_type": "code",
   "execution_count": 30,
   "id": "8143ddda",
   "metadata": {},
   "outputs": [
    {
     "name": "stdout",
     "output_type": "stream",
     "text": [
      "Predicting....\n",
      "Prediction is ready\n"
     ]
    }
   ],
   "source": [
    "predictions = model.predict(testX)"
   ]
  },
  {
   "cell_type": "code",
   "execution_count": 31,
   "id": "a7d239b3",
   "metadata": {},
   "outputs": [],
   "source": [
    "True_Positive, True_Negative, False_Positive, False_Negative = model.metric(testY, predictions)"
   ]
  },
  {
   "cell_type": "code",
   "execution_count": 32,
   "id": "13408953",
   "metadata": {},
   "outputs": [
    {
     "name": "stdout",
     "output_type": "stream",
     "text": [
      "Accuracy: 1.0\n"
     ]
    }
   ],
   "source": [
    "accuracy = (True_Positive + True_Negative)/(True_Positive + True_Negative + False_Positive + False_Negative)\n",
    "print(f\"Accuracy: {accuracy}\")"
   ]
  },
  {
   "cell_type": "code",
   "execution_count": 33,
   "id": "272d9854",
   "metadata": {},
   "outputs": [
    {
     "name": "stdout",
     "output_type": "stream",
     "text": [
      "Recall: 1.0\n"
     ]
    }
   ],
   "source": [
    "recall = (True_Positive)/(True_Positive + False_Negative)\n",
    "print(f\"Recall: {recall}\")"
   ]
  },
  {
   "cell_type": "code",
   "execution_count": 23,
   "id": "728154df",
   "metadata": {},
   "outputs": [
    {
     "name": "stdout",
     "output_type": "stream",
     "text": [
      "Precision: 1.0\n"
     ]
    }
   ],
   "source": [
    "precision = (True_Positive)/(True_Positive + False_Positive)\n",
    "print(f\"Precision: {precision}\")"
   ]
  },
  {
   "cell_type": "code",
   "execution_count": 411,
   "id": "8f0f0bec",
   "metadata": {},
   "outputs": [
    {
     "name": "stdout",
     "output_type": "stream",
     "text": [
      "F-1: 0.47761194029850745\n"
     ]
    }
   ],
   "source": [
    "f1 = 2* ((precision * recall) / (precision + recall))\n",
    "print(f\"F-1: {f1}\")"
   ]
  },
  {
   "cell_type": "code",
   "execution_count": 412,
   "id": "7c03f7e5",
   "metadata": {},
   "outputs": [],
   "source": [
    "def plot_roc_curve(fper, tper):\n",
    "    plt.plot(fper, tper, color='red', label='ROC')\n",
    "    plt.plot([0, 1], [0, 1], color='green', linestyle='--')\n",
    "    plt.xlabel('False Positive Rate')\n",
    "    plt.ylabel('True Positive Rate')\n",
    "    plt.title('Receiver Operating Characteristic Curve')\n",
    "    plt.legend()\n",
    "    plt.show()"
   ]
  },
  {
   "cell_type": "code",
   "execution_count": 413,
   "id": "a6227e30",
   "metadata": {},
   "outputs": [
    {
     "data": {
      "image/png": "[encoded data removed]",
      "text/plain": [
       "<Figure size 432x288 with 1 Axes>"
      ]
     },
     "metadata": {
      "needs_background": "light"
     },
     "output_type": "display_data"
    }
   ],
   "source": [
    "fper, tper, thresholds = roc_curve(testY, predictions)\n",
    "plot_roc_curve(fper, tper)"
   ]
  },
  {
   "cell_type": "code",
   "execution_count": null,
   "id": "633b9f0c",
   "metadata": {},
   "outputs": [],
   "source": []
  }
 ],
 "metadata": {
  "kernelspec": {
   "display_name": "Python 3 (ipykernel)",
   "language": "python",
   "name": "python3"
  },
  "language_info": {
   "codemirror_mode": {
    "name": "ipython",
    "version": 3
   },
   "file_extension": ".py",
   "mimetype": "text/x-python",
   "name": "python",
   "nbconvert_exporter": "python",
   "pygments_lexer": "ipython3",
   "version": "3.9.12"
  }
 },
 "nbformat": 4,
 "nbformat_minor": 5
}
