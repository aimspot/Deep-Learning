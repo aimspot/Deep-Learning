{
 "cells": [
  {
   "cell_type": "code",
   "execution_count": 1,
   "id": "7d173cb0",
   "metadata": {},
   "outputs": [],
   "source": [
    "import pandas as pd\n",
    "import numpy as np\n",
    "import random\n",
    "from sklearn import preprocessing \n",
    "from sklearn.preprocessing import OneHotEncoder\n",
    "from sklearn.metrics import confusion_matrix\n",
    "import seaborn as sns\n",
    "import matplotlib as plt\n"
   ]
  },
  {
   "cell_type": "markdown",
   "id": "58ab1923",
   "metadata": {},
   "source": [
    "### Считываем данные и задаём заголовки"
   ]
  },
  {
   "cell_type": "code",
   "execution_count": 2,
   "id": "0499c93a",
   "metadata": {},
   "outputs": [],
   "source": [
    "df = pd.read_csv('data/Mushroom_dataset.csv', delimiter=',', \n",
    "                    names=['Edibility', 'Сap-shape', 'Сap-surface', 'Cap-color', 'Bruises', 'Odor',\n",
    "                          'Gill-Attachment', 'Gill-Spacing', 'Gill-Size', 'Gill-Color', \n",
    "                           'Stalk-Shape', 'Stalk-Root', 'Stalk-Surface-Above-Ring', 'Stalk-Surface-Below-Ring',\n",
    "                          'Stalk-Color-Above-Ring','Stalk-Color-Below-Ring', 'Veil-Type','Veil-Color', 'Ring-Number',\n",
    "                          'Ring-Type', 'Spore-Print-Color', 'Population', 'Habitat'])  "
   ]
  },
  {
   "cell_type": "code",
   "execution_count": 3,
   "id": "512722ff",
   "metadata": {},
   "outputs": [
    {
     "data": {
      "text/html": [
       "<div>\n",
       "<style scoped>\n",
       "    .dataframe tbody tr th:only-of-type {\n",
       "        vertical-align: middle;\n",
       "    }\n",
       "\n",
       "    .dataframe tbody tr th {\n",
       "        vertical-align: top;\n",
       "    }\n",
       "\n",
       "    .dataframe thead th {\n",
       "        text-align: right;\n",
       "    }\n",
       "</style>\n",
       "<table border=\"1\" class=\"dataframe\">\n",
       "  <thead>\n",
       "    <tr style=\"text-align: right;\">\n",
       "      <th></th>\n",
       "      <th>Edibility</th>\n",
       "      <th>Сap-shape</th>\n",
       "      <th>Сap-surface</th>\n",
       "      <th>Cap-color</th>\n",
       "      <th>Bruises</th>\n",
       "      <th>Odor</th>\n",
       "      <th>Gill-Attachment</th>\n",
       "      <th>Gill-Spacing</th>\n",
       "      <th>Gill-Size</th>\n",
       "      <th>Gill-Color</th>\n",
       "      <th>...</th>\n",
       "      <th>Stalk-Surface-Below-Ring</th>\n",
       "      <th>Stalk-Color-Above-Ring</th>\n",
       "      <th>Stalk-Color-Below-Ring</th>\n",
       "      <th>Veil-Type</th>\n",
       "      <th>Veil-Color</th>\n",
       "      <th>Ring-Number</th>\n",
       "      <th>Ring-Type</th>\n",
       "      <th>Spore-Print-Color</th>\n",
       "      <th>Population</th>\n",
       "      <th>Habitat</th>\n",
       "    </tr>\n",
       "  </thead>\n",
       "  <tbody>\n",
       "    <tr>\n",
       "      <th>count</th>\n",
       "      <td>8416</td>\n",
       "      <td>8416</td>\n",
       "      <td>8416</td>\n",
       "      <td>8416</td>\n",
       "      <td>8416</td>\n",
       "      <td>8416</td>\n",
       "      <td>8416</td>\n",
       "      <td>8416</td>\n",
       "      <td>8416</td>\n",
       "      <td>8416</td>\n",
       "      <td>...</td>\n",
       "      <td>8416</td>\n",
       "      <td>8416</td>\n",
       "      <td>8416</td>\n",
       "      <td>8416</td>\n",
       "      <td>8416</td>\n",
       "      <td>8416</td>\n",
       "      <td>8416</td>\n",
       "      <td>8416</td>\n",
       "      <td>8416</td>\n",
       "      <td>8416</td>\n",
       "    </tr>\n",
       "    <tr>\n",
       "      <th>unique</th>\n",
       "      <td>2</td>\n",
       "      <td>6</td>\n",
       "      <td>4</td>\n",
       "      <td>10</td>\n",
       "      <td>2</td>\n",
       "      <td>9</td>\n",
       "      <td>2</td>\n",
       "      <td>2</td>\n",
       "      <td>2</td>\n",
       "      <td>12</td>\n",
       "      <td>...</td>\n",
       "      <td>4</td>\n",
       "      <td>9</td>\n",
       "      <td>9</td>\n",
       "      <td>1</td>\n",
       "      <td>4</td>\n",
       "      <td>3</td>\n",
       "      <td>5</td>\n",
       "      <td>9</td>\n",
       "      <td>6</td>\n",
       "      <td>7</td>\n",
       "    </tr>\n",
       "    <tr>\n",
       "      <th>top</th>\n",
       "      <td>EDIBLE</td>\n",
       "      <td>CONVEX</td>\n",
       "      <td>SCALY</td>\n",
       "      <td>BROWN</td>\n",
       "      <td>NO</td>\n",
       "      <td>NONE</td>\n",
       "      <td>FREE</td>\n",
       "      <td>CLOSE</td>\n",
       "      <td>BROAD</td>\n",
       "      <td>BUFF</td>\n",
       "      <td>...</td>\n",
       "      <td>SMOOTH</td>\n",
       "      <td>WHITE</td>\n",
       "      <td>WHITE</td>\n",
       "      <td>PARTIAL</td>\n",
       "      <td>WHITE</td>\n",
       "      <td>ONE</td>\n",
       "      <td>PENDANT</td>\n",
       "      <td>WHITE</td>\n",
       "      <td>SEVERAL</td>\n",
       "      <td>WOODS</td>\n",
       "    </tr>\n",
       "    <tr>\n",
       "      <th>freq</th>\n",
       "      <td>4488</td>\n",
       "      <td>3796</td>\n",
       "      <td>3268</td>\n",
       "      <td>2320</td>\n",
       "      <td>5040</td>\n",
       "      <td>3808</td>\n",
       "      <td>8200</td>\n",
       "      <td>6824</td>\n",
       "      <td>5880</td>\n",
       "      <td>1728</td>\n",
       "      <td>...</td>\n",
       "      <td>5076</td>\n",
       "      <td>4744</td>\n",
       "      <td>4640</td>\n",
       "      <td>8416</td>\n",
       "      <td>8216</td>\n",
       "      <td>7768</td>\n",
       "      <td>3968</td>\n",
       "      <td>2424</td>\n",
       "      <td>4064</td>\n",
       "      <td>3160</td>\n",
       "    </tr>\n",
       "  </tbody>\n",
       "</table>\n",
       "<p>4 rows × 23 columns</p>\n",
       "</div>"
      ],
      "text/plain": [
       "       Edibility Сap-shape Сap-surface Cap-color Bruises  Odor  \\\n",
       "count       8416      8416        8416      8416    8416  8416   \n",
       "unique         2         6           4        10       2     9   \n",
       "top       EDIBLE    CONVEX       SCALY     BROWN      NO  NONE   \n",
       "freq        4488      3796        3268      2320    5040  3808   \n",
       "\n",
       "       Gill-Attachment Gill-Spacing Gill-Size Gill-Color  ...  \\\n",
       "count             8416         8416      8416       8416  ...   \n",
       "unique               2            2         2         12  ...   \n",
       "top               FREE        CLOSE     BROAD       BUFF  ...   \n",
       "freq              8200         6824      5880       1728  ...   \n",
       "\n",
       "       Stalk-Surface-Below-Ring Stalk-Color-Above-Ring Stalk-Color-Below-Ring  \\\n",
       "count                      8416                   8416                   8416   \n",
       "unique                        4                      9                      9   \n",
       "top                      SMOOTH                  WHITE                  WHITE   \n",
       "freq                       5076                   4744                   4640   \n",
       "\n",
       "       Veil-Type Veil-Color Ring-Number Ring-Type Spore-Print-Color  \\\n",
       "count       8416       8416        8416      8416              8416   \n",
       "unique         1          4           3         5                 9   \n",
       "top      PARTIAL      WHITE         ONE   PENDANT             WHITE   \n",
       "freq        8416       8216        7768      3968              2424   \n",
       "\n",
       "       Population Habitat  \n",
       "count        8416    8416  \n",
       "unique          6       7  \n",
       "top       SEVERAL   WOODS  \n",
       "freq         4064    3160  \n",
       "\n",
       "[4 rows x 23 columns]"
      ]
     },
     "execution_count": 3,
     "metadata": {},
     "output_type": "execute_result"
    }
   ],
   "source": [
    "df.describe()"
   ]
  },
  {
   "cell_type": "code",
   "execution_count": 4,
   "id": "cf8b5342",
   "metadata": {},
   "outputs": [],
   "source": [
    "name = df.columns\n",
    "for i in name:\n",
    "    le = preprocessing.LabelEncoder()\n",
    "    le.fit(df[i])\n",
    "    df[i] = le.transform(df[i])\n",
    " "
   ]
  },
  {
   "cell_type": "markdown",
   "id": "06c55594",
   "metadata": {},
   "source": [
    "## Разбиваем на test и train выборки"
   ]
  },
  {
   "cell_type": "code",
   "execution_count": 5,
   "id": "3bfc4fe2",
   "metadata": {},
   "outputs": [],
   "source": [
    "X = df.iloc[:, 1:]\n",
    "Y = df.iloc[:, 0]"
   ]
  },
  {
   "cell_type": "code",
   "execution_count": 6,
   "id": "5f8c75d0",
   "metadata": {},
   "outputs": [
    {
     "data": {
      "text/plain": [
       "(8416, 22)"
      ]
     },
     "execution_count": 6,
     "metadata": {},
     "output_type": "execute_result"
    }
   ],
   "source": [
    "X.shape"
   ]
  },
  {
   "cell_type": "code",
   "execution_count": 7,
   "id": "823ff8fb",
   "metadata": {},
   "outputs": [
    {
     "data": {
      "text/plain": [
       "(8416,)"
      ]
     },
     "execution_count": 7,
     "metadata": {},
     "output_type": "execute_result"
    }
   ],
   "source": [
    "Y.shape"
   ]
  },
  {
   "cell_type": "code",
   "execution_count": 8,
   "id": "37743168",
   "metadata": {},
   "outputs": [
    {
     "data": {
      "text/plain": [
       "Сap-shape                    2\n",
       "Сap-surface                  3\n",
       "Cap-color                    8\n",
       "Bruises                      0\n",
       "Odor                         0\n",
       "Gill-Attachment              1\n",
       "Gill-Spacing                 1\n",
       "Gill-Size                    1\n",
       "Gill-Color                  10\n",
       "Stalk-Shape                  1\n",
       "Stalk-Root                   1\n",
       "Stalk-Surface-Above-Ring     3\n",
       "Stalk-Surface-Below-Ring     3\n",
       "Stalk-Color-Above-Ring       7\n",
       "Stalk-Color-Below-Ring       7\n",
       "Veil-Type                    0\n",
       "Veil-Color                   2\n",
       "Ring-Number                  1\n",
       "Ring-Type                    4\n",
       "Spore-Print-Color            6\n",
       "Population                   4\n",
       "Habitat                      6\n",
       "Name: 0, dtype: int32"
      ]
     },
     "execution_count": 8,
     "metadata": {},
     "output_type": "execute_result"
    }
   ],
   "source": [
    "X.iloc[0,:]"
   ]
  },
  {
   "cell_type": "code",
   "execution_count": 9,
   "id": "d6f68018",
   "metadata": {},
   "outputs": [
    {
     "data": {
      "text/plain": [
       "0"
      ]
     },
     "execution_count": 9,
     "metadata": {},
     "output_type": "execute_result"
    }
   ],
   "source": [
    "Y[0]"
   ]
  },
  {
   "cell_type": "code",
   "execution_count": 10,
   "id": "0293fb86",
   "metadata": {},
   "outputs": [],
   "source": [
    "train_percent = 80 # Процент тестовой формирует исходя из значения обучающей выборки"
   ]
  },
  {
   "cell_type": "code",
   "execution_count": 11,
   "id": "804f3b80",
   "metadata": {},
   "outputs": [],
   "source": [
    "def train_test_split_X(data, train_percent):\n",
    "    train = list()\n",
    "    test = list()\n",
    "    for i in range(0, len(data)):\n",
    "        if i <= len(data) * 0.8:\n",
    "            train.append(data.iloc[i,:])\n",
    "        else:\n",
    "            test.append(data.iloc[i,:])\n",
    "    return np.array(train), np.array(test)"
   ]
  },
  {
   "cell_type": "code",
   "execution_count": 12,
   "id": "c9d3c4b7",
   "metadata": {},
   "outputs": [],
   "source": [
    "def train_test_split_Y(data, train_percent):\n",
    "    train = list()\n",
    "    test = list()\n",
    "    for i in range(0, len(data)):\n",
    "        if i <= len(data) * 0.8:\n",
    "            train.append(data[i])\n",
    "        else:\n",
    "            test.append(data[i])\n",
    "    return np.array(train), np.array(test)"
   ]
  },
  {
   "cell_type": "code",
   "execution_count": 13,
   "id": "d5bb1f99",
   "metadata": {},
   "outputs": [],
   "source": [
    "trainX, testX = train_test_split_X(X, train_percent)\n",
    "trainY, testY = train_test_split_Y(Y, train_percent)"
   ]
  },
  {
   "cell_type": "markdown",
   "id": "973391b4",
   "metadata": {},
   "source": [
    "### Проверяем Mlpclassifier и смотрим на метрики"
   ]
  },
  {
   "cell_type": "code",
   "execution_count": 18,
   "id": "50b1c45d",
   "metadata": {},
   "outputs": [],
   "source": [
    "from sklearn.neural_network import MLPClassifier\n",
    "from sklearn.metrics import accuracy_score\n",
    "from sklearn.metrics import plot_confusion_matrix"
   ]
  },
  {
   "cell_type": "code",
   "execution_count": 15,
   "id": "995fa229",
   "metadata": {},
   "outputs": [],
   "source": [
    "clf = MLPClassifier(random_state=1, hidden_layer_sizes=(10,4),\n",
    "                        max_iter = 300,activation = 'relu',).fit(trainX, trainY)"
   ]
  },
  {
   "cell_type": "code",
   "execution_count": 16,
   "id": "3e7e9d14",
   "metadata": {},
   "outputs": [
    {
     "name": "stdout",
     "output_type": "stream",
     "text": [
      "Accuracy: 0.69\n"
     ]
    }
   ],
   "source": [
    "y_pred = clf.predict(testX)\n",
    "\n",
    "print('Accuracy: {:.2f}'.format(accuracy_score(testY, y_pred)))"
   ]
  },
  {
   "cell_type": "code",
   "execution_count": 24,
   "id": "08c055b8",
   "metadata": {},
   "outputs": [
    {
     "name": "stderr",
     "output_type": "stream",
     "text": [
      "D:\\Users\\misha\\Documents\\Anaconda\\lib\\site-packages\\sklearn\\utils\\deprecation.py:87: FutureWarning: Function plot_confusion_matrix is deprecated; Function `plot_confusion_matrix` is deprecated in 1.0 and will be removed in 1.2. Use one of the class methods: ConfusionMatrixDisplay.from_predictions or ConfusionMatrixDisplay.from_estimator.\n",
      "  warnings.warn(msg, category=FutureWarning)\n"
     ]
    },
    {
     "data": {
      "text/plain": [
       "Text(0.5, 0.98, 'Confusion Matrix for Winequality Dataset')"
      ]
     },
     "execution_count": 24,
     "metadata": {},
     "output_type": "execute_result"
    },
    {
     "data": {
      "image/png": "[encoded data removed]",
      "text/plain": [
       "<Figure size 432x288 with 2 Axes>"
      ]
     },
     "metadata": {
      "needs_background": "light"
     },
     "output_type": "display_data"
    }
   ],
   "source": [
    "fig = plot_confusion_matrix(clf, testX, testY, display_labels=clf.classes_)\n",
    "fig.figure_.suptitle(\"Confusion Matrix for Winequality Dataset\")"
   ]
  },
  {
   "cell_type": "markdown",
   "id": "acdbc5ac",
   "metadata": {},
   "source": [
    "### Создаём архитектуру нашей сети"
   ]
  },
  {
   "cell_type": "code",
   "execution_count": 76,
   "id": "15a9700e",
   "metadata": {},
   "outputs": [],
   "source": [
    "import matplotlib.pyplot as plt"
   ]
  },
  {
   "cell_type": "markdown",
   "id": "43eabdf7",
   "metadata": {},
   "source": [
    "### Класс для функции активации"
   ]
  },
  {
   "cell_type": "code",
   "execution_count": 79,
   "id": "49dfe3d4",
   "metadata": {},
   "outputs": [],
   "source": [
    "'''\n",
    "Artificial Neural Network Class\n",
    "'''\n",
    "class ANN:\n",
    "    import numpy as np # linear algebra\n",
    "    np.random.seed(10)\n",
    "    \n",
    "    '''\n",
    "    Initialize the ANN;\n",
    "    HiddenLayer vector : will contain the Layers' info\n",
    "    w, b, phi = (empty) arrays that will contain all the w, b and activation functions for all the Layers\n",
    "    mu = cost function\n",
    "    eta = a standard learning rate initialization. It can be modified by the 'set_learning_rate' method\n",
    "    '''\n",
    "    def __init__(self) :\n",
    "        self.HiddenLayer = []\n",
    "        self.w = []\n",
    "        self.b = []\n",
    "        self.phi = []\n",
    "        self.mu = []\n",
    "        self.eta = 1 #set up the proper Learning Rate!!\n",
    "    \n",
    "    '''\n",
    "    add method: to add layers to the network\n",
    "    '''\n",
    "    def add(self, lay = (4, 'ReLU') ):\n",
    "        self.HiddenLayer.append(lay)\n",
    "    \n",
    "    '''\n",
    "    FeedForward method: as explained before. \n",
    "    '''\n",
    "    @staticmethod\n",
    "    def FeedForward(w, b, phi, x):\n",
    "        return phi(np.dot(w, x) + b)\n",
    "        \n",
    "    '''\n",
    "    BackPropagation algorithm implementing the Gradient Descent \n",
    "    '''\n",
    "    def BackPropagation(self, x, z, Y, w, b, phi):\n",
    "        self.delta = []\n",
    "        \n",
    "        # We initialize ausiliar w and b that are used only inside the backpropagation algorithm once called        \n",
    "        self.W = []\n",
    "        self.B = []\n",
    "        \n",
    "        # We start computing the LAST error, the one for the OutPut Layer \n",
    "        self.delta.append(  (z[len(z)-1] - Y) * phi[len(z)-1](z[len(z)-1], der=True) )\n",
    "        \n",
    "        '''Now we BACKpropagate'''\n",
    "        # We thus compute from next-to-last to first\n",
    "        for i in range(0, len(z)-1):\n",
    "            self.delta.append( np.dot( self.delta[i], w[len(z)- 1 - i] ) * phi[len(z)- 2 - i](z[len(z)- 2 - i], der=True) )\n",
    "        \n",
    "        # We have the error array ordered from last to first; we flip it to order it from first to last\n",
    "        self.delta = np.flip(self.delta, 0)  \n",
    "        \n",
    "        # Now we define the delta as the error divided by the number of training samples\n",
    "        self.delta = self.delta/self.X.shape[0] \n",
    "        \n",
    "        '''GRADIENT DESCENT'''\n",
    "        # We start from the first layer that is special, since it is connected to the Input Layer\n",
    "        self.W.append( w[0] - self.eta * np.kron(self.delta[0], x).reshape( len(z[0]), x.shape[0] ) )\n",
    "        self.B.append( b[0] - self.eta * self.delta[0] )\n",
    "        \n",
    "        # We now descend for all the other Hidden Layers + OutPut Layer\n",
    "        for i in range(1, len(z)):\n",
    "            self.W.append( w[i] - self.eta * np.kron(self.delta[i], z[i-1]).reshape(len(z[i]), len(z[i-1])) )\n",
    "            self.B.append( b[i] - self.eta * self.delta[i] )\n",
    "        \n",
    "        # We return the descended parameters w, b\n",
    "        return np.array(self.W), np.array(self.B)\n",
    "    \n",
    "    \n",
    "    '''\n",
    "    Fit method: it calls FeedForward and Backpropagation methods\n",
    "    '''\n",
    "    def Fit(self, X_train, Y_train):            \n",
    "        print('Start fitting...')\n",
    "        '''\n",
    "        Input layer\n",
    "        '''\n",
    "        self.X = X_train\n",
    "        self.Y = Y_train\n",
    "        \n",
    "        '''\n",
    "        We now initialize the Network by retrieving the Hidden Layers and concatenating them \n",
    "        '''\n",
    "        print('Model recap: \\n')\n",
    "        print('You are fitting an ANN with the following amount of layers: ', len(self.HiddenLayer))\n",
    "        \n",
    "        for i in range(0, len(self.HiddenLayer)) :\n",
    "            print('Layer ', i+1)\n",
    "            print('Number of neurons: ', self.HiddenLayer[i][0])\n",
    "            if i==0:\n",
    "                # We now try to use the He et al. Initialization from ArXiv:1502.01852\n",
    "                self.w.append( np.random.randn(self.HiddenLayer[i][0] , self.X.shape[1])/np.sqrt(2/self.X.shape[1]) )\n",
    "                self.b.append( np.random.randn(self.HiddenLayer[i][0])/np.sqrt(2/self.X.shape[1]))\n",
    "                # Old initialization\n",
    "                #self.w.append(2 * np.random.rand(self.HiddenLayer[i][0] , self.X.shape[1]) - 0.5)\n",
    "                #self.b.append(np.random.rand(self.HiddenLayer[i][0]))\n",
    "                \n",
    "                # Initialize the Activation function\n",
    "                for act in Activation_function.list_act():\n",
    "                    if self.HiddenLayer[i][1] == act :\n",
    "                        self.phi.append(Activation_function.get_act(act))\n",
    "                        print('\\tActivation: ', act)\n",
    "\n",
    "            else :\n",
    "                # We now try to use the He et al. Initialization from ArXiv:1502.01852\n",
    "                self.w.append( np.random.randn(self.HiddenLayer[i][0] , self.HiddenLayer[i-1][0] )/np.sqrt(2/self.HiddenLayer[i-1][0]))\n",
    "                self.b.append( np.random.randn(self.HiddenLayer[i][0])/np.sqrt(2/self.HiddenLayer[i-1][0]))\n",
    "                # Old initialization\n",
    "                #self.w.append(2*np.random.rand(self.HiddenLayer[i][0] , self.HiddenLayer[i-1][0] ) - 0.5)\n",
    "                #self.b.append(np.random.rand(self.HiddenLayer[i][0]))\n",
    "                \n",
    "                # Initialize the Activation function\n",
    "                for act in Activation_function.list_act():\n",
    "                    if self.HiddenLayer[i][1] == act :\n",
    "                        self.phi.append(Activation_function.get_act(act))\n",
    "                        print('\\tActivation: ', act)\n",
    "            \n",
    "        '''\n",
    "        Now we start the Loop over the training dataset\n",
    "        '''  \n",
    "        for I in range(0, self.X.shape[0]): # loop over the training set\n",
    "            '''\n",
    "            Now we start the feed forward\n",
    "            '''  \n",
    "            self.z = []\n",
    "            \n",
    "            self.z.append( self.FeedForward(self.w[0], self.b[0], self.phi[0], self.X[I]) ) # First layers\n",
    "            \n",
    "            for i in range(1, len(self.HiddenLayer)): #Looping over layers\n",
    "                self.z.append( self.FeedForward(self.w[i] , self.b[i], self.phi[i], self.z[i-1] ) )\n",
    "        \n",
    "            \n",
    "            '''\n",
    "            Here we backpropagate\n",
    "            '''      \n",
    "            self.w, self.b  = self.BackPropagation(self.X[I], self.z, self.Y[I], self.w, self.b, self.phi)\n",
    "            \n",
    "            '''\n",
    "            Compute cost function\n",
    "            ''' \n",
    "            self.mu.append(\n",
    "                (1/2) * np.dot(self.z[len(self.z)-1] - self.Y[I], self.z[len(self.z)-1] - self.Y[I]) \n",
    "            )\n",
    "            \n",
    "        print('Fit done. \\n')\n",
    "        \n",
    "\n",
    "    \n",
    "    '''\n",
    "    predict method\n",
    "    '''\n",
    "    def predict(self, X_test):\n",
    "        \n",
    "        print('Starting predictions...')\n",
    "        \n",
    "        self.pred = []\n",
    "        self.XX = X_test\n",
    "        \n",
    "        for I in range(0, self.XX.shape[0]): # loop over the training set\n",
    "            \n",
    "            '''\n",
    "            Now we start the feed forward\n",
    "            '''  \n",
    "            self.z = []\n",
    "            \n",
    "            self.z.append(self.FeedForward(self.w[0] , self.b[0], self.phi[0], self.XX[I])) #First layer\n",
    "    \n",
    "            for i in range(1, len(self.HiddenLayer)) : # loop over the layers\n",
    "                self.z.append( self.FeedForward(self.w[i] , self.b[i], self.phi[i], self.z[i-1]))\n",
    "       \n",
    "            # Append the prediction;\n",
    "            # We now need a binary classifier; we this apply an Heaviside Theta and we set to 0.5 the threshold\n",
    "            # if y < 0.5 the output is zero, otherwise is zero\n",
    "            self.pred.append( np.heaviside(  self.z[-1] - 0.5, 1)[0] ) # NB: self.z[-1]  is the last element of the self.z list\n",
    "        \n",
    "        print('Predictions done. \\n')\n",
    "\n",
    "        return np.array(self.pred)\n",
    "   \n",
    "    '''\n",
    "    We need a method to retrieve the accuracy for each training data to follow the learning of the ANN\n",
    "    '''\n",
    "    def get_accuracy(self):\n",
    "        return np.array(self.mu)\n",
    "    # This is the averaged version\n",
    "    def get_avg_accuracy(self):\n",
    "        import math\n",
    "        self.batch_loss = []\n",
    "        for i in range(0, 10):\n",
    "            self.loss_avg = 0\n",
    "            # To set the batch in 10 element/batch we use math.ceil method\n",
    "            # int(math.ceil((self.X.shape[0]-10) / 10.0))    - 1\n",
    "            for m in range(0, (int(math.ceil((self.X.shape[0]-10) / 10.0))   )-1):\n",
    "                #self.loss_avg += self.mu[60*i+m]/60\n",
    "                self.loss_avg += self.mu[(int(math.ceil((self.X.shape[0]-10) / 10.0)) )*i + m]/(int(math.ceil((self.X.shape[0]-10) / 10.0)) )\n",
    "            self.batch_loss.append(self.loss_avg)\n",
    "        return np.array(self.batch_loss)\n",
    "    \n",
    "    '''\n",
    "    Method to set the learning rate\n",
    "    '''\n",
    "    def set_learning_rate(self, et=1):\n",
    "        self.eta = et\n",
    "        \n",
    "        \n",
    "'''\n",
    "layers class\n",
    "'''\n",
    "class layers :\n",
    "    '''\n",
    "    Layer method: used to call standar layers to add. \n",
    "    Easily generalizable to more general layers (Pooling and Convolutional layers)\n",
    "    '''        \n",
    "    def layer(p=4, activation = 'ReLU'):\n",
    "        return (p, activation)\n",
    "\n",
    "'''\n",
    "Activation functions class\n",
    "'''\n",
    "class Activation_function(ANN):\n",
    "    import numpy as np\n",
    "    \n",
    "    def __init__(self) :\n",
    "        super().__init__()\n",
    "        \n",
    "    '''\n",
    "    Define the sigmoid activator; we ask if we want the sigmoid or its derivative\n",
    "    '''\n",
    "    def sigmoid_act(x, der=False):\n",
    "        if (der==True) : #derivative of the sigmoid\n",
    "            f = 1/(1+ np.exp(- x))*(1-1/(1+ np.exp(- x)))\n",
    "        else : # sigmoid\n",
    "            f = 1/(1+ np.exp(- x))\n",
    "        return f\n",
    "\n",
    "    '''\n",
    "    Define the Rectifier Linear Unit (ReLU)\n",
    "    '''\n",
    "    def ReLU_act(x, der=False):\n",
    "        if (der == True): # the derivative of the ReLU is the Heaviside Theta\n",
    "            f = np.heaviside(x, 1)\n",
    "        else :\n",
    "            f = np.maximum(x, 0)\n",
    "        return f\n",
    "    \n",
    "    def list_act():\n",
    "        return ['sigmoid', 'ReLU']\n",
    "    \n",
    "    def get_act(string = 'ReLU'):\n",
    "        if string == 'ReLU':\n",
    "            return ReLU_act\n",
    "        elif string == 'sigmoid':\n",
    "            return sigmoid_act\n",
    "        else :\n",
    "            return sigmoid_act"
   ]
  },
  {
   "cell_type": "code",
   "execution_count": 90,
   "id": "6aa9f5cb",
   "metadata": {},
   "outputs": [
    {
     "name": "stdout",
     "output_type": "stream",
     "text": [
      "Start fitting...\n",
      "Model recap: \n",
      "\n",
      "You are fitting an ANN with the following amount of layers:  4\n",
      "Layer  1\n",
      "Number of neurons:  22\n",
      "\tActivation:  ReLU\n",
      "Layer  2\n",
      "Number of neurons:  44\n",
      "\tActivation:  ReLU\n",
      "Layer  3\n",
      "Number of neurons:  11\n",
      "\tActivation:  ReLU\n",
      "Layer  4\n",
      "Number of neurons:  1\n",
      "\tActivation:  sigmoid\n"
     ]
    },
    {
     "name": "stderr",
     "output_type": "stream",
     "text": [
      "C:\\Users\\misha\\AppData\\Local\\Temp\\ipykernel_16208\\1280099542.py:6: RuntimeWarning: overflow encountered in exp\n",
      "  f = 1/(1+ np.exp(- x))\n",
      "C:\\Users\\misha\\AppData\\Roaming\\Python\\Python39\\site-packages\\numpy\\lib\\function_base.py:334: VisibleDeprecationWarning: Creating an ndarray from ragged nested sequences (which is a list-or-tuple of lists-or-tuples-or ndarrays with different lengths or shapes) is deprecated. If you meant to do this, you must specify 'dtype=object' when creating the ndarray.\n",
      "  m = asarray(m)\n",
      "C:\\Users\\misha\\AppData\\Local\\Temp\\ipykernel_16208\\3002148751.py:71: VisibleDeprecationWarning: Creating an ndarray from ragged nested sequences (which is a list-or-tuple of lists-or-tuples-or ndarrays with different lengths or shapes) is deprecated. If you meant to do this, you must specify 'dtype=object' when creating the ndarray.\n",
      "  return np.array(self.W), np.array(self.B)\n"
     ]
    },
    {
     "name": "stdout",
     "output_type": "stream",
     "text": [
      "Fit done. \n",
      "\n",
      "Starting predictions...\n",
      "Predictions done. \n",
      "\n"
     ]
    }
   ],
   "source": [
    "model = ANN()\n",
    "\n",
    "model.add(layers.layer(22, 'ReLU'))\n",
    "model.add(layers.layer(44, 'ReLU'))\n",
    "model.add(layers.layer(11, 'ReLU'))\n",
    "model.add(layers.layer(1, 'sigmoid'))\n",
    "\n",
    "model.set_learning_rate(0.8)\n",
    "\n",
    "model.Fit(trainX, trainY)\n",
    "acc_val = model.get_accuracy()\n",
    "acc_avg_val = model.get_avg_accuracy()\n",
    "\n",
    "predictions = model.predict(testX)"
   ]
  },
  {
   "cell_type": "code",
   "execution_count": 91,
   "id": "a7119e01",
   "metadata": {},
   "outputs": [],
   "source": [
    "predictions = predictions.astype(int)"
   ]
  },
  {
   "cell_type": "code",
   "execution_count": 92,
   "id": "01a4ddbb",
   "metadata": {},
   "outputs": [
    {
     "data": {
      "text/plain": [
       "(1683,)"
      ]
     },
     "execution_count": 92,
     "metadata": {},
     "output_type": "execute_result"
    }
   ],
   "source": [
    "predictions.shape"
   ]
  },
  {
   "cell_type": "code",
   "execution_count": 93,
   "id": "7b85f77e",
   "metadata": {},
   "outputs": [],
   "source": [
    "answer_prediction = list(le.inverse_transform(predictions))"
   ]
  },
  {
   "cell_type": "code",
   "execution_count": 94,
   "id": "7b6a784f",
   "metadata": {},
   "outputs": [],
   "source": [
    "label_testY = list(le.inverse_transform(testY))"
   ]
  },
  {
   "cell_type": "code",
   "execution_count": 95,
   "id": "40dca521",
   "metadata": {},
   "outputs": [],
   "source": [
    "cm = confusion_matrix(answer_prediction,label_testY)"
   ]
  },
  {
   "cell_type": "code",
   "execution_count": 96,
   "id": "b9d6196c",
   "metadata": {},
   "outputs": [
    {
     "data": {
      "text/plain": [
       "array([[   0,    0],\n",
       "       [ 528, 1155]], dtype=int64)"
      ]
     },
     "execution_count": 96,
     "metadata": {},
     "output_type": "execute_result"
    }
   ],
   "source": [
    "cm"
   ]
  },
  {
   "cell_type": "code",
   "execution_count": 89,
   "id": "d01de38c",
   "metadata": {},
   "outputs": [
    {
     "data": {
      "image/png": "[encoded data removed]",
      "text/plain": [
       "<Figure size 432x432 with 1 Axes>"
      ]
     },
     "metadata": {
      "needs_background": "light"
     },
     "output_type": "display_data"
    }
   ],
   "source": [
    "df_cm = pd.DataFrame(cm, index = [\"True Positive\", \"False Negative\"], columns = [\"\", \"Tr\"])\n",
    "fig, ax = plt.subplots(1, 1, figsize =(6,6))\n",
    "ax.xaxis.tick_top()\n",
    "ax.xaxis.set_label_position('top') \n",
    "sns.heatmap(df_cm, annot=True, cmap=plt.cm.Blues, fmt='g', cbar=False)\n",
    "#plt.xlabel(\"Predicted Class\", fontsize=18)\n",
    "#plt.ylabel(\"True Class\", fontsize=18)\n",
    "plt.show()"
   ]
  },
  {
   "cell_type": "code",
   "execution_count": null,
   "id": "83fd8d7c",
   "metadata": {},
   "outputs": [],
   "source": []
  }
 ],
 "metadata": {
  "kernelspec": {
   "display_name": "Python 3 (ipykernel)",
   "language": "python",
   "name": "python3"
  },
  "language_info": {
   "codemirror_mode": {
    "name": "ipython",
    "version": 3
   },
   "file_extension": ".py",
   "mimetype": "text/x-python",
   "name": "python",
   "nbconvert_exporter": "python",
   "pygments_lexer": "ipython3",
   "version": "3.9.12"
  }
 },
 "nbformat": 4,
 "nbformat_minor": 5
}
