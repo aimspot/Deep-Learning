{
 "cells": [
  {
   "cell_type": "code",
   "execution_count": 1,
   "id": "e7df5d89-705f-4ffc-ae8b-d4b69d1e5762",
   "metadata": {},
   "outputs": [
    {
     "name": "stderr",
     "output_type": "stream",
     "text": [
      "2023-01-17 23:28:23.706169: I tensorflow/stream_executor/platform/default/dso_loader.cc:49] Successfully opened dynamic library libcudart.so.10.1\n"
     ]
    }
   ],
   "source": [
    "import numpy as np\n",
    "import cv2\n",
    "import os\n",
    "import string\n",
    "import matplotlib.pyplot as plt\n",
    "import tqdm\n",
    "from os.path import join\n",
    "from collections import Counter\n",
    "import re \n",
    "import io\n",
    "import copy\n",
    "from tensorflow.keras import layers\n",
    "import editdistance\n",
    "\n",
    "from tensorflow.keras.preprocessing.sequence import pad_sequences\n",
    "from tensorflow.keras import layers\n",
    "\n",
    "from tensorflow.keras.layers import Dense, LSTM, GRU, Reshape, BatchNormalization, Input, Conv2D, MaxPool2D, Lambda, Bidirectional\n",
    "from tensorflow.keras.models import Model\n",
    "from tensorflow.keras.activations import relu, sigmoid, softmax\n",
    "import tensorflow.keras.backend as K\n",
    "from tensorflow.keras.utils import to_categorical\n",
    "from tensorflow.keras.callbacks import ModelCheckpoint"
   ]
  },
  {
   "cell_type": "code",
   "execution_count": 2,
   "id": "efe247e9-f442-404e-889a-cfb7ee66da90",
   "metadata": {},
   "outputs": [
    {
     "name": "stderr",
     "output_type": "stream",
     "text": [
      "Using TensorFlow backend.\n"
     ]
    },
    {
     "name": "stdout",
     "output_type": "stream",
     "text": [
      "TensorFlow version: 2.4.1\n",
      "Keras version: 2.4.0\n",
      "Numpy version: 1.19.2\n"
     ]
    }
   ],
   "source": [
    "import keras\n",
    "import tensorflow as tf\n",
    "print('TensorFlow version:', tf.__version__)\n",
    "print('Keras version:', keras.__version__)\n",
    "print ('Numpy version:', np.__version__)\n",
    "import torch\n",
    "torch.cuda.is_available()\n",
    "torch.cuda.set_device(3)"
   ]
  },
  {
   "cell_type": "code",
   "execution_count": 3,
   "id": "2c53f24a-bf96-4b48-9fe6-560f8ba3c956",
   "metadata": {},
   "outputs": [
    {
     "name": "stdout",
     "output_type": "stream",
     "text": [
      "6196\n"
     ]
    }
   ],
   "source": [
    "#В этой папке лежат txt файлы перевода\n",
    "trans_dir = 'train/words'\n",
    "#В этой папке лежат  jpg файлы изображений\n",
    "image_dir = 'train/images'\n",
    "\n",
    "print(len(os.listdir(trans_dir)))"
   ]
  },
  {
   "cell_type": "code",
   "execution_count": 4,
   "id": "efa8128f-eda9-4fe9-9dec-a3639c3245f7",
   "metadata": {},
   "outputs": [],
   "source": [
    "example = os.listdir(image_dir)[0]"
   ]
  },
  {
   "cell_type": "code",
   "execution_count": 5,
   "id": "a9db75da-3613-4c17-81d5-84f1cd18d944",
   "metadata": {},
   "outputs": [
    {
     "data": {
      "image/png": "[encoded data removed]",
      "text/plain": [
       "<Figure size 432x288 with 1 Axes>"
      ]
     },
     "metadata": {
      "needs_background": "light"
     },
     "output_type": "display_data"
    }
   ],
   "source": [
    "img = plt.imread(image_dir+'/'+example)\n",
    "plt.imshow(img)\n",
    "plt.show()"
   ]
  },
  {
   "cell_type": "code",
   "execution_count": 6,
   "id": "36aee179-ccec-4925-8e92-1e8b78b6d51d",
   "metadata": {},
   "outputs": [
    {
     "name": "stdout",
     "output_type": "stream",
     "text": [
      "[чаю повѣриш ваша милость что я iстинно не за гулянем\n"
     ]
    }
   ],
   "source": [
    "with io.open(trans_dir+'/'+example[:-3]+'txt', 'r',  encoding='utf8') as file:\n",
    "    data = file.read()\n",
    "\n",
    "print(data)"
   ]
  },
  {
   "cell_type": "markdown",
   "id": "18ab9511-d2e1-4466-a8a0-1aa5400ed93d",
   "metadata": {},
   "source": [
    "В текстах встречаются слова, содержащие английские символы.\n",
    "\n",
    "Но так как английских символов в целом не очень много, то из train-выборки можно удалить строки с ними (и обучаться только на оставшихся строках). Так мы и сделаем в текущем бейзлайне. Это сократит алфавит (и, как следствие, избавит нас от лишней шумности). \n",
    "\n",
    "При этом надо понимать, что в тестовой выборке английские символы, скорее всего, будут присутствовать. Поэтому будут и вынужденные ошибки, связанные с нашей вольной фильтрацией обучающей выборки.\n",
    "\n",
    "Впрочем, метод распознавания всегда выбираете вы сами. \n",
    "\n",
    "Кроме того, советуем внимательно изучить train-выборку глазами."
   ]
  },
  {
   "cell_type": "code",
   "execution_count": 7,
   "id": "54ea72a1-f3c3-463a-a29b-ea8efef55bf6",
   "metadata": {},
   "outputs": [],
   "source": [
    "english = ['a', 'b', 'c', 'd', 'e', 'f', 'g', 'h', 'm', 'n' ,'o', 'p', 'r', 's', 't', 'u', 'w']"
   ]
  },
  {
   "cell_type": "code",
   "execution_count": 8,
   "id": "10d9f983-185f-4f67-84a6-f35c23cf4638",
   "metadata": {},
   "outputs": [],
   "source": [
    "def text_to_labels(text):\n",
    "    return list(map(lambda x: letters.index(x), text))"
   ]
  },
  {
   "cell_type": "markdown",
   "id": "1e83bd9b-0abb-4cd1-a3ed-5ed5681ef648",
   "metadata": {},
   "source": [
    "Следующая функция подготавливает лэйблы, то есть переведенный текст. Как уже было сказано, игнорируются примеры, содержащие английские буквы."
   ]
  },
  {
   "cell_type": "code",
   "execution_count": 9,
   "id": "e240a2f8-661a-4a7c-9041-427383399435",
   "metadata": {},
   "outputs": [],
   "source": [
    "def process_texts(image_dir,trans_dir):\n",
    "    lens = []\n",
    "    include_english = 0\n",
    "    letters = ''\n",
    "\n",
    "    lines = []\n",
    "    names = []\n",
    "    \n",
    "    all_files = os.listdir(trans_dir)\n",
    "    for filename in os.listdir(image_dir):\n",
    "        if filename[:-3]+'txt' in all_files:\n",
    "            name, ext = os.path.splitext(filename)\n",
    "            txt_filepath = join(trans_dir, name + '.txt')\n",
    "            with open(txt_filepath, 'r') as file:\n",
    "                data = file.read()\n",
    "                if len(data)==0:\n",
    "                    continue\n",
    "                if len(set(data).intersection(english))>0:\n",
    "                    continue\n",
    "\n",
    "                lines.append(data)\n",
    "                names.append(filename)\n",
    "                lens.append(len(data))\n",
    "                letters += data\n",
    "    print('Максимальная длина строки:', max(Counter(lens).keys()))\n",
    "    print('Количество строк с английскими буквами ',include_english)\n",
    "\n",
    "    return names,lines,Counter(letters)"
   ]
  },
  {
   "cell_type": "markdown",
   "id": "05013208-46b8-47b7-ad43-93c85843668c",
   "metadata": {},
   "source": [
    "В итоге мы получаем список изображений, соответствующий ему обработанный список строк и словарь символов."
   ]
  },
  {
   "cell_type": "code",
   "execution_count": 10,
   "id": "a2fed165-a363-41fd-a32e-1d2e4bf54bda",
   "metadata": {},
   "outputs": [
    {
     "name": "stdout",
     "output_type": "stream",
     "text": [
      "Максимальная длина строки: 71\n",
      "Количество строк с английскими буквами  0\n"
     ]
    }
   ],
   "source": [
    "names,lines,cnt = process_texts(image_dir,trans_dir)"
   ]
  },
  {
   "cell_type": "code",
   "execution_count": 11,
   "id": "350a02ae-2e9a-48d2-98ea-294f5399ec3f",
   "metadata": {},
   "outputs": [
    {
     "name": "stdout",
     "output_type": "stream",
     "text": [
      "Символы train:   ) + / 0 1 2 3 4 5 6 7 8 9 [ ] i k l | × ǂ а б в г д е ж з и й к л м н о п р с т у ф х ц ч ш щ ъ ы ь э ю я і ѣ – … ⊕ ⊗\n"
     ]
    }
   ],
   "source": [
    "letters = set(cnt.keys())\n",
    "\n",
    "letters = sorted(list(letters))\n",
    "print('Символы train:', ' '.join(letters))"
   ]
  },
  {
   "cell_type": "markdown",
   "id": "d675c532-2b12-4eee-917a-90a4dd277d06",
   "metadata": {},
   "source": [
    "Следующая функция подгружает изображения, меняет их до необходимого размера и нормирует."
   ]
  },
  {
   "cell_type": "code",
   "execution_count": 12,
   "id": "bc3f6d51-a0e5-4d81-904d-b69f6d0323f7",
   "metadata": {},
   "outputs": [],
   "source": [
    "def process_image(img):\n",
    "    w, h,_ = img.shape\n",
    "    \n",
    "    new_w = 128\n",
    "    new_h = int(h * (new_w / w))\n",
    "    img = cv2.resize(img, (new_h, new_w))\n",
    "    w, h,_ = img.shape\n",
    "    \n",
    "    img = img.astype('float32')\n",
    "    \n",
    "    if w < 128:\n",
    "        add_zeros = np.full((128-w, h,3), 255)\n",
    "        img = np.concatenate((img, add_zeros))\n",
    "        w, h,_ = img.shape\n",
    "    \n",
    "    if h < 1024:\n",
    "        add_zeros = np.full((w, 1024-h,3), 255)\n",
    "        img = np.concatenate((img, add_zeros), axis=1)\n",
    "        w, h,_ = img.shape\n",
    "        \n",
    "    if h > 1024 or w > 128:\n",
    "        dim = (1024,128)\n",
    "        img = cv2.resize(img, dim)\n",
    "    \n",
    "    img = cv2.subtract(255, img)\n",
    "\n",
    "    img = img / 255\n",
    "    \n",
    "    return img"
   ]
  },
  {
   "cell_type": "markdown",
   "id": "a269c8a1-ef29-4676-a923-8a8e8d03fbbe",
   "metadata": {},
   "source": [
    "**Подготовим обучающие и валидационные данные.**"
   ]
  },
  {
   "cell_type": "code",
   "execution_count": 13,
   "id": "c26a553e-703e-403e-925c-8667d25a8616",
   "metadata": {},
   "outputs": [],
   "source": [
    "def generate_data(lines,names,image_dir):\n",
    "    data_images = []\n",
    "    data_labels = []\n",
    "    data_input_length = []\n",
    "    data_label_length = []\n",
    "    data_original_text = []\n",
    "    data_original_image = []\n",
    "    \n",
    "    max_label_len = 0\n",
    "    for line, name in tqdm.tqdm_notebook(zip(lines,names)):\n",
    "        img = cv2.imread(image_dir+'/'+name)\n",
    "        original_image = copy.deepcopy(img)\n",
    "        img = process_image(img)\n",
    "        try:\n",
    "            label = text_to_labels(line)\n",
    "        except:\n",
    "            print('bad_label')\n",
    "            continue\n",
    "        data_images.append(img)\n",
    "        data_labels.append(label)\n",
    "        data_input_length.append(255)\n",
    "        data_label_length.append(len(line))\n",
    "        data_original_text.append(line)\n",
    "        data_original_image.append(original_image)\n",
    "        \n",
    "        if len(line) > max_label_len:\n",
    "            max_label_len = len(line)\n",
    "        \n",
    "    return data_images, data_labels, data_input_length, data_label_length, \\\n",
    "            data_original_text, data_original_image, max_label_len"
   ]
  },
  {
   "cell_type": "markdown",
   "id": "80058c7f-a5ef-46f7-a370-ec2ba13a80fa",
   "metadata": {},
   "source": [
    "Создадим обучающую и валидационную выборки."
   ]
  },
  {
   "cell_type": "code",
   "execution_count": 14,
   "id": "9a55d76c-2031-4afc-8948-30652561109d",
   "metadata": {},
   "outputs": [],
   "source": [
    "lines_train = []\n",
    "names_train = []\n",
    "\n",
    "lines_val = []\n",
    "names_val = []\n",
    "\n",
    "\n",
    "for num,(line, name) in enumerate(zip(lines,names)):\n",
    "    if num % 15 == 0:\n",
    "        lines_val.append(line)\n",
    "        names_val.append(name)\n",
    "    else:\n",
    "        lines_train.append(line)\n",
    "        names_train.append(name)"
   ]
  },
  {
   "cell_type": "code",
   "execution_count": 15,
   "id": "a6c6fb06-ba90-42d6-be30-48af10e5caf2",
   "metadata": {},
   "outputs": [
    {
     "name": "stderr",
     "output_type": "stream",
     "text": [
      "/tmp/ipykernel_56991/23347412.py:10: TqdmDeprecationWarning: This function will be removed in tqdm==5.0.0\n",
      "Please use `tqdm.notebook.tqdm` instead of `tqdm.tqdm_notebook`\n",
      "  for line, name in tqdm.tqdm_notebook(zip(lines,names)):\n"
     ]
    },
    {
     "data": {
      "application/vnd.jupyter.widget-view+json": {
       "model_id": "dd5fb0caa7c64e19ab7871a0676fcace",
       "version_major": 2,
       "version_minor": 0
      },
      "text/plain": [
       "0it [00:00, ?it/s]"
      ]
     },
     "metadata": {},
     "output_type": "display_data"
    }
   ],
   "source": [
    "train_images, train_labels, train_input_length, train_label_length, train_original_text, train_original_image, \\\n",
    "        train_max_label_len = generate_data(lines_train, names_train, image_dir)"
   ]
  },
  {
   "cell_type": "code",
   "execution_count": 16,
   "id": "49bb3415-ce6f-4ab5-8251-43dd74dc7daf",
   "metadata": {},
   "outputs": [
    {
     "name": "stderr",
     "output_type": "stream",
     "text": [
      "/tmp/ipykernel_56991/23347412.py:10: TqdmDeprecationWarning: This function will be removed in tqdm==5.0.0\n",
      "Please use `tqdm.notebook.tqdm` instead of `tqdm.tqdm_notebook`\n",
      "  for line, name in tqdm.tqdm_notebook(zip(lines,names)):\n"
     ]
    },
    {
     "data": {
      "application/vnd.jupyter.widget-view+json": {
       "model_id": "b58e71b0729d4e6cad44419b0dab89ec",
       "version_major": 2,
       "version_minor": 0
      },
      "text/plain": [
       "0it [00:00, ?it/s]"
      ]
     },
     "metadata": {},
     "output_type": "display_data"
    }
   ],
   "source": [
    "val_images, val_labels, val_input_length, val_label_length, val_original_text, val_original_image, \\\n",
    "        val_max_label_len = generate_data(lines_val, names_val, image_dir)"
   ]
  },
  {
   "cell_type": "code",
   "execution_count": 17,
   "id": "e7c4229c-0a53-41ed-a41b-6955ed7187a0",
   "metadata": {},
   "outputs": [
    {
     "name": "stdout",
     "output_type": "stream",
     "text": [
      "71\n"
     ]
    }
   ],
   "source": [
    "max_label_len = max(train_max_label_len,val_max_label_len)\n",
    "print(max_label_len)"
   ]
  },
  {
   "cell_type": "markdown",
   "id": "d1fdaf3c-bc70-44b4-8301-2ea5164e1309",
   "metadata": {},
   "source": [
    "Выведем пару обработанных изображений с переводом."
   ]
  },
  {
   "cell_type": "code",
   "execution_count": 18,
   "id": "7aaccfc7-8818-4368-89fc-8b1c4ebfbf6f",
   "metadata": {},
   "outputs": [
    {
     "name": "stderr",
     "output_type": "stream",
     "text": [
      "Clipping input data to the valid range for imshow with RGB data ([0..1] for floats or [0..255] for integers).\n"
     ]
    },
    {
     "name": "stdout",
     "output_type": "stream",
     "text": [
      "вил въ ден с андрея что же приказывала\n"
     ]
    },
    {
     "data": {
      "image/png": "[encoded data removed]",
      "text/plain": [
       "<Figure size 432x288 with 1 Axes>"
      ]
     },
     "metadata": {
      "needs_background": "light"
     },
     "output_type": "display_data"
    },
    {
     "name": "stderr",
     "output_type": "stream",
     "text": [
      "Clipping input data to the valid range for imshow with RGB data ([0..1] for floats or [0..255] for integers).\n"
     ]
    },
    {
     "name": "stdout",
     "output_type": "stream",
     "text": [
      "государственном\n"
     ]
    },
    {
     "data": {
      "image/png": "[encoded data removed]",
      "text/plain": [
       "<Figure size 432x288 with 1 Axes>"
      ]
     },
     "metadata": {
      "needs_background": "light"
     },
     "output_type": "display_data"
    }
   ],
   "source": [
    "rnd = np.random.choice(range(len(train_images)),2)\n",
    "\n",
    "for i in rnd:\n",
    "    print(train_original_text[i])\n",
    "    plt.imshow(train_images[i])\n",
    "    plt.show()"
   ]
  },
  {
   "cell_type": "markdown",
   "id": "952c894b-c0bb-4512-b187-0b809837b530",
   "metadata": {},
   "source": [
    "**Дополним строки до максимальной длины**"
   ]
  },
  {
   "cell_type": "code",
   "execution_count": 19,
   "id": "c6a88cc3-d5d5-490c-bfcd-e664cec2c1eb",
   "metadata": {},
   "outputs": [],
   "source": [
    "train_padded_label = pad_sequences(train_labels, \n",
    "                             maxlen=max_label_len, \n",
    "                             padding='post',\n",
    "                             value=len(letters))\n",
    "\n",
    "val_padded_label = pad_sequences(val_labels, \n",
    "                             maxlen=max_label_len, \n",
    "                             padding='post',\n",
    "                             value=len(letters))"
   ]
  },
  {
   "cell_type": "code",
   "execution_count": 20,
   "id": "228c8054-c03a-43c9-8dd6-6d4938071721",
   "metadata": {},
   "outputs": [
    {
     "data": {
      "text/plain": [
       "((5698, 71), (407, 71))"
      ]
     },
     "execution_count": 20,
     "metadata": {},
     "output_type": "execute_result"
    }
   ],
   "source": [
    "train_padded_label.shape, val_padded_label.shape"
   ]
  },
  {
   "cell_type": "code",
   "execution_count": 21,
   "id": "cc6794f9-52ce-4288-94ef-842092bc560f",
   "metadata": {},
   "outputs": [],
   "source": [
    "train_images = np.asarray(train_images)\n",
    "train_input_length = np.asarray(train_input_length)\n",
    "train_label_length = np.asarray(train_label_length)\n",
    "\n",
    "val_images = np.asarray(val_images)\n",
    "val_input_length = np.asarray(val_input_length)\n",
    "val_label_length = np.asarray(val_label_length)"
   ]
  },
  {
   "cell_type": "code",
   "execution_count": 22,
   "id": "c81dd497-93da-40e6-b346-09914aeabc5a",
   "metadata": {},
   "outputs": [
    {
     "data": {
      "text/plain": [
       "(5698, 128, 1024, 3)"
      ]
     },
     "execution_count": 22,
     "metadata": {},
     "output_type": "execute_result"
    }
   ],
   "source": [
    "train_images.shape"
   ]
  },
  {
   "cell_type": "markdown",
   "id": "6cfad4c8-7e19-47df-80c1-ad35d80ff9a0",
   "metadata": {},
   "source": [
    "## **Строим модель**"
   ]
  },
  {
   "cell_type": "markdown",
   "id": "1bd1c9cd-89fc-42cb-9ca5-9691d1c4406f",
   "metadata": {},
   "source": [
    "Модель состоит из нескольких слоев CNN, GRU и использует ctc_loss. [Вот](https://www.youtube.com/watch?v=SAfJ6nP2rrI) хорошее видео о нем на русском."
   ]
  },
  {
   "cell_type": "code",
   "execution_count": 23,
   "id": "314477be-a41d-4c08-9e8d-2315a6d77c92",
   "metadata": {},
   "outputs": [
    {
     "name": "stderr",
     "output_type": "stream",
     "text": [
      "2023-01-17 23:29:52.587849: I tensorflow/compiler/jit/xla_cpu_device.cc:41] Not creating XLA devices, tf_xla_enable_xla_devices not set\n",
      "2023-01-17 23:29:52.588611: I tensorflow/stream_executor/platform/default/dso_loader.cc:49] Successfully opened dynamic library libcuda.so.1\n",
      "2023-01-17 23:29:52.589224: I tensorflow/core/common_runtime/gpu/gpu_device.cc:1720] Found device 0 with properties: \n",
      "pciBusID: 0000:1a:00.0 name: Tesla V100-SXM2-32GB computeCapability: 7.0\n",
      "coreClock: 1.53GHz coreCount: 80 deviceMemorySize: 31.75GiB deviceMemoryBandwidth: 836.37GiB/s\n",
      "2023-01-17 23:29:52.589600: I tensorflow/core/common_runtime/gpu/gpu_device.cc:1720] Found device 1 with properties: \n",
      "pciBusID: 0000:1c:00.0 name: Tesla V100-SXM2-32GB computeCapability: 7.0\n",
      "coreClock: 1.53GHz coreCount: 80 deviceMemorySize: 31.75GiB deviceMemoryBandwidth: 836.37GiB/s\n",
      "2023-01-17 23:29:52.589928: I tensorflow/core/common_runtime/gpu/gpu_device.cc:1720] Found device 2 with properties: \n",
      "pciBusID: 0000:1d:00.0 name: Tesla V100-SXM2-32GB computeCapability: 7.0\n",
      "coreClock: 1.53GHz coreCount: 80 deviceMemorySize: 31.75GiB deviceMemoryBandwidth: 836.37GiB/s\n",
      "2023-01-17 23:29:52.590255: I tensorflow/core/common_runtime/gpu/gpu_device.cc:1720] Found device 3 with properties: \n",
      "pciBusID: 0000:1e:00.0 name: Tesla V100-SXM2-32GB computeCapability: 7.0\n",
      "coreClock: 1.53GHz coreCount: 80 deviceMemorySize: 31.75GiB deviceMemoryBandwidth: 836.37GiB/s\n",
      "2023-01-17 23:29:52.590280: I tensorflow/stream_executor/platform/default/dso_loader.cc:49] Successfully opened dynamic library libcudart.so.10.1\n",
      "2023-01-17 23:29:52.590326: I tensorflow/stream_executor/platform/default/dso_loader.cc:49] Successfully opened dynamic library libcublas.so.10\n",
      "2023-01-17 23:29:52.590345: I tensorflow/stream_executor/platform/default/dso_loader.cc:49] Successfully opened dynamic library libcublasLt.so.10\n",
      "2023-01-17 23:29:52.593065: I tensorflow/stream_executor/platform/default/dso_loader.cc:49] Successfully opened dynamic library libcufft.so.10\n",
      "2023-01-17 23:29:52.593411: I tensorflow/stream_executor/platform/default/dso_loader.cc:49] Successfully opened dynamic library libcurand.so.10\n",
      "2023-01-17 23:29:52.595916: I tensorflow/stream_executor/platform/default/dso_loader.cc:49] Successfully opened dynamic library libcusolver.so.10\n",
      "2023-01-17 23:29:52.596985: I tensorflow/stream_executor/platform/default/dso_loader.cc:49] Successfully opened dynamic library libcusparse.so.10\n",
      "2023-01-17 23:29:52.601919: I tensorflow/stream_executor/platform/default/dso_loader.cc:49] Successfully opened dynamic library libcudnn.so.7\n",
      "2023-01-17 23:29:52.604463: I tensorflow/core/common_runtime/gpu/gpu_device.cc:1862] Adding visible gpu devices: 0, 1, 2, 3\n",
      "2023-01-17 23:29:52.605041: I tensorflow/core/platform/cpu_feature_guard.cc:142] This TensorFlow binary is optimized with oneAPI Deep Neural Network Library (oneDNN) to use the following CPU instructions in performance-critical operations:  SSE4.1 SSE4.2 AVX AVX2 AVX512F FMA\n",
      "To enable them in other operations, rebuild TensorFlow with the appropriate compiler flags.\n",
      "2023-01-17 23:29:52.614774: I tensorflow/compiler/jit/xla_gpu_device.cc:99] Not creating XLA devices, tf_xla_enable_xla_devices not set\n",
      "2023-01-17 23:29:53.092558: I tensorflow/core/common_runtime/gpu/gpu_device.cc:1720] Found device 0 with properties: \n",
      "pciBusID: 0000:1a:00.0 name: Tesla V100-SXM2-32GB computeCapability: 7.0\n",
      "coreClock: 1.53GHz coreCount: 80 deviceMemorySize: 31.75GiB deviceMemoryBandwidth: 836.37GiB/s\n",
      "2023-01-17 23:29:53.092990: I tensorflow/core/common_runtime/gpu/gpu_device.cc:1720] Found device 1 with properties: \n",
      "pciBusID: 0000:1c:00.0 name: Tesla V100-SXM2-32GB computeCapability: 7.0\n",
      "coreClock: 1.53GHz coreCount: 80 deviceMemorySize: 31.75GiB deviceMemoryBandwidth: 836.37GiB/s\n",
      "2023-01-17 23:29:53.093362: I tensorflow/core/common_runtime/gpu/gpu_device.cc:1720] Found device 2 with properties: \n",
      "pciBusID: 0000:1d:00.0 name: Tesla V100-SXM2-32GB computeCapability: 7.0\n",
      "coreClock: 1.53GHz coreCount: 80 deviceMemorySize: 31.75GiB deviceMemoryBandwidth: 836.37GiB/s\n",
      "2023-01-17 23:29:53.093726: I tensorflow/core/common_runtime/gpu/gpu_device.cc:1720] Found device 3 with properties: \n",
      "pciBusID: 0000:1e:00.0 name: Tesla V100-SXM2-32GB computeCapability: 7.0\n",
      "coreClock: 1.53GHz coreCount: 80 deviceMemorySize: 31.75GiB deviceMemoryBandwidth: 836.37GiB/s\n",
      "2023-01-17 23:29:53.093792: I tensorflow/stream_executor/platform/default/dso_loader.cc:49] Successfully opened dynamic library libcudart.so.10.1\n",
      "2023-01-17 23:29:53.093825: I tensorflow/stream_executor/platform/default/dso_loader.cc:49] Successfully opened dynamic library libcublas.so.10\n",
      "2023-01-17 23:29:53.093844: I tensorflow/stream_executor/platform/default/dso_loader.cc:49] Successfully opened dynamic library libcublasLt.so.10\n",
      "2023-01-17 23:29:53.093867: I tensorflow/stream_executor/platform/default/dso_loader.cc:49] Successfully opened dynamic library libcufft.so.10\n",
      "2023-01-17 23:29:53.093884: I tensorflow/stream_executor/platform/default/dso_loader.cc:49] Successfully opened dynamic library libcurand.so.10\n",
      "2023-01-17 23:29:53.093901: I tensorflow/stream_executor/platform/default/dso_loader.cc:49] Successfully opened dynamic library libcusolver.so.10\n",
      "2023-01-17 23:29:53.093917: I tensorflow/stream_executor/platform/default/dso_loader.cc:49] Successfully opened dynamic library libcusparse.so.10\n",
      "2023-01-17 23:29:53.093935: I tensorflow/stream_executor/platform/default/dso_loader.cc:49] Successfully opened dynamic library libcudnn.so.7\n",
      "2023-01-17 23:29:53.096660: I tensorflow/core/common_runtime/gpu/gpu_device.cc:1862] Adding visible gpu devices: 0, 1, 2, 3\n",
      "2023-01-17 23:29:53.096708: I tensorflow/stream_executor/platform/default/dso_loader.cc:49] Successfully opened dynamic library libcudart.so.10.1\n",
      "2023-01-17 23:29:54.969931: I tensorflow/core/common_runtime/gpu/gpu_device.cc:1261] Device interconnect StreamExecutor with strength 1 edge matrix:\n",
      "2023-01-17 23:29:54.969980: I tensorflow/core/common_runtime/gpu/gpu_device.cc:1267]      0 1 2 3 \n",
      "2023-01-17 23:29:54.969998: I tensorflow/core/common_runtime/gpu/gpu_device.cc:1280] 0:   N Y Y Y \n",
      "2023-01-17 23:29:54.970005: I tensorflow/core/common_runtime/gpu/gpu_device.cc:1280] 1:   Y N Y Y \n",
      "2023-01-17 23:29:54.970011: I tensorflow/core/common_runtime/gpu/gpu_device.cc:1280] 2:   Y Y N Y \n",
      "2023-01-17 23:29:54.970017: I tensorflow/core/common_runtime/gpu/gpu_device.cc:1280] 3:   Y Y Y N \n",
      "2023-01-17 23:29:54.972350: I tensorflow/core/common_runtime/gpu/gpu_device.cc:1406] Created TensorFlow device (/job:localhost/replica:0/task:0/device:GPU:0 with 1170 MB memory) -> physical GPU (device: 0, name: Tesla V100-SXM2-32GB, pci bus id: 0000:1a:00.0, compute capability: 7.0)\n",
      "2023-01-17 23:29:54.973797: I tensorflow/core/common_runtime/gpu/gpu_device.cc:1406] Created TensorFlow device (/job:localhost/replica:0/task:0/device:GPU:1 with 28132 MB memory) -> physical GPU (device: 1, name: Tesla V100-SXM2-32GB, pci bus id: 0000:1c:00.0, compute capability: 7.0)\n",
      "2023-01-17 23:29:54.975110: I tensorflow/core/common_runtime/gpu/gpu_device.cc:1406] Created TensorFlow device (/job:localhost/replica:0/task:0/device:GPU:2 with 22245 MB memory) -> physical GPU (device: 2, name: Tesla V100-SXM2-32GB, pci bus id: 0000:1d:00.0, compute capability: 7.0)\n",
      "2023-01-17 23:29:54.975966: I tensorflow/core/common_runtime/gpu/gpu_device.cc:1406] Created TensorFlow device (/job:localhost/replica:0/task:0/device:GPU:3 with 28521 MB memory) -> physical GPU (device: 3, name: Tesla V100-SXM2-32GB, pci bus id: 0000:1e:00.0, compute capability: 7.0)\n"
     ]
    }
   ],
   "source": [
    "inputs = Input(shape=(128,1024,3))\n",
    "\n",
    "conv_1 = Conv2D(64, (3,3), activation = 'relu', padding='same')(inputs)\n",
    "pool_1 = MaxPool2D(pool_size=(4, 2), strides=2)(conv_1)\n",
    "\n",
    "conv_2 = Conv2D(128, (3,3), activation = 'relu', padding='same')(pool_1)\n",
    "pool_2 = MaxPool2D(pool_size=(4, 2), strides=2)(conv_2)\n",
    "\n",
    "conv_3 = Conv2D(256, (3,3), activation = 'relu', padding='same')(pool_2)\n",
    "conv_4 = Conv2D(256, (3,3), activation = 'relu', padding='same')(conv_3)\n",
    "pool_4 = MaxPool2D(pool_size=(4, 1),padding='same')(conv_4)\n",
    "\n",
    "conv_5 = Conv2D(512, (3,3), activation = 'relu', padding='same')(pool_4)\n",
    "conv_6 = Conv2D(512, (3,3), activation = 'relu', padding='same')(conv_5)\n",
    "\n",
    "batch_norm_6 = BatchNormalization()(conv_6)\n",
    "\n",
    "conv_7 = Conv2D(512, (3,3), activation = 'relu', padding='same')(batch_norm_6)\n",
    "batch_norm_7 = BatchNormalization()(conv_7)\n",
    "pool_7 = MaxPool2D(pool_size=(4, 1),padding='same')(batch_norm_7)\n",
    "\n",
    "conv_8 = Conv2D(512, (2,2), activation = 'relu')(pool_7)\n",
    "\n",
    "squeezed = Lambda(lambda x: K.squeeze(x, 1))(conv_8)\n",
    "\n",
    "blstm_1 = Bidirectional(LSTM(256, return_sequences=True, dropout = 0.2))(squeezed)\n",
    "blstm_2 = Bidirectional(LSTM(256, return_sequences=True, dropout = 0.2))(blstm_1)\n",
    "blstm_3 = Bidirectional(LSTM(256, return_sequences=True, dropout = 0.2))(blstm_2)\n",
    "\n",
    "outputs = Dense(len(letters)+1, activation = 'softmax')(blstm_3)\n",
    "act_model = Model(inputs=inputs, outputs=outputs)\n",
    "    \n",
    "the_labels = Input(name='the_labels', shape=[max_label_len], dtype='float32')\n",
    "input_length = Input(name='input_length', shape=[1], dtype='int64')\n",
    "label_length = Input(name='label_length', shape=[1], dtype='int64')\n",
    "\n",
    "def ctc_lambda_func(args):\n",
    "    y_pred, labels, input_length, label_length = args\n",
    "\n",
    "    return K.ctc_batch_cost(labels, y_pred, input_length, label_length)\n",
    "\n",
    "loss_out = Lambda(ctc_lambda_func, output_shape=(1,), name='ctc')([outputs, the_labels, input_length, label_length])\n",
    "\n",
    "model = Model(inputs=[inputs, the_labels, input_length, label_length], outputs=loss_out)"
   ]
  },
  {
   "cell_type": "code",
   "execution_count": 24,
   "id": "88091676-2c1b-481f-ab9d-66ec76168815",
   "metadata": {},
   "outputs": [
    {
     "name": "stdout",
     "output_type": "stream",
     "text": [
      "Model: \"model\"\n",
      "_________________________________________________________________\n",
      "Layer (type)                 Output Shape              Param #   \n",
      "=================================================================\n",
      "input_1 (InputLayer)         [(None, 128, 1024, 3)]    0         \n",
      "_________________________________________________________________\n",
      "conv2d (Conv2D)              (None, 128, 1024, 64)     1792      \n",
      "_________________________________________________________________\n",
      "max_pooling2d (MaxPooling2D) (None, 63, 512, 64)       0         \n",
      "_________________________________________________________________\n",
      "conv2d_1 (Conv2D)            (None, 63, 512, 128)      73856     \n",
      "_________________________________________________________________\n",
      "max_pooling2d_1 (MaxPooling2 (None, 30, 256, 128)      0         \n",
      "_________________________________________________________________\n",
      "conv2d_2 (Conv2D)            (None, 30, 256, 256)      295168    \n",
      "_________________________________________________________________\n",
      "conv2d_3 (Conv2D)            (None, 30, 256, 256)      590080    \n",
      "_________________________________________________________________\n",
      "max_pooling2d_2 (MaxPooling2 (None, 8, 256, 256)       0         \n",
      "_________________________________________________________________\n",
      "conv2d_4 (Conv2D)            (None, 8, 256, 512)       1180160   \n",
      "_________________________________________________________________\n",
      "conv2d_5 (Conv2D)            (None, 8, 256, 512)       2359808   \n",
      "_________________________________________________________________\n",
      "batch_normalization (BatchNo (None, 8, 256, 512)       2048      \n",
      "_________________________________________________________________\n",
      "conv2d_6 (Conv2D)            (None, 8, 256, 512)       2359808   \n",
      "_________________________________________________________________\n",
      "batch_normalization_1 (Batch (None, 8, 256, 512)       2048      \n",
      "_________________________________________________________________\n",
      "max_pooling2d_3 (MaxPooling2 (None, 2, 256, 512)       0         \n",
      "_________________________________________________________________\n",
      "conv2d_7 (Conv2D)            (None, 1, 255, 512)       1049088   \n",
      "_________________________________________________________________\n",
      "lambda (Lambda)              (None, 255, 512)          0         \n",
      "_________________________________________________________________\n",
      "bidirectional (Bidirectional (None, 255, 512)          1574912   \n",
      "_________________________________________________________________\n",
      "bidirectional_1 (Bidirection (None, 255, 512)          1574912   \n",
      "_________________________________________________________________\n",
      "bidirectional_2 (Bidirection (None, 255, 512)          1574912   \n",
      "_________________________________________________________________\n",
      "dense (Dense)                (None, 255, 61)           31293     \n",
      "=================================================================\n",
      "Total params: 12,669,885\n",
      "Trainable params: 12,667,837\n",
      "Non-trainable params: 2,048\n",
      "_________________________________________________________________\n"
     ]
    }
   ],
   "source": [
    "act_model.summary()"
   ]
  },
  {
   "cell_type": "code",
   "execution_count": 25,
   "id": "5851535f-7ee8-4036-807f-d4a0cb038db5",
   "metadata": {},
   "outputs": [
    {
     "name": "stderr",
     "output_type": "stream",
     "text": [
      "2023-01-17 23:30:33.622518: I tensorflow/compiler/mlir/mlir_graph_optimization_pass.cc:116] None of the MLIR optimization passes are enabled (registered 2)\n",
      "2023-01-17 23:30:33.623336: I tensorflow/core/platform/profile_utils/cpu_utils.cc:112] CPU Frequency: 2400000000 Hz\n"
     ]
    },
    {
     "name": "stdout",
     "output_type": "stream",
     "text": [
      "Epoch 1/300\n"
     ]
    },
    {
     "name": "stderr",
     "output_type": "stream",
     "text": [
      "2023-01-17 23:30:40.401899: I tensorflow/stream_executor/platform/default/dso_loader.cc:49] Successfully opened dynamic library libcublas.so.10\n",
      "2023-01-17 23:30:40.681495: I tensorflow/stream_executor/platform/default/dso_loader.cc:49] Successfully opened dynamic library libcudnn.so.7\n"
     ]
    },
    {
     "name": "stdout",
     "output_type": "stream",
     "text": [
      "190/190 - 72s - loss: 99.0841 - accuracy: 0.0000e+00 - val_loss: 93.2038 - val_accuracy: 0.0000e+00\n",
      "\n",
      "Epoch 00001: val_accuracy improved from -inf to 0.00000, saving model to checkpoint/model.hdf5\n",
      "Epoch 2/300\n",
      "190/190 - 57s - loss: 90.7312 - accuracy: 0.0000e+00 - val_loss: 92.8314 - val_accuracy: 0.0000e+00\n",
      "\n",
      "Epoch 00002: val_accuracy did not improve from 0.00000\n",
      "Epoch 3/300\n",
      "190/190 - 57s - loss: 90.1102 - accuracy: 0.0000e+00 - val_loss: 93.4100 - val_accuracy: 0.0000e+00\n",
      "\n",
      "Epoch 00003: val_accuracy did not improve from 0.00000\n",
      "Epoch 4/300\n",
      "190/190 - 57s - loss: 88.7735 - accuracy: 0.0000e+00 - val_loss: 93.4099 - val_accuracy: 0.0000e+00\n",
      "\n",
      "Epoch 00004: val_accuracy did not improve from 0.00000\n",
      "Epoch 5/300\n",
      "190/190 - 57s - loss: 82.7970 - accuracy: 0.0000e+00 - val_loss: 89.8191 - val_accuracy: 0.0000e+00\n",
      "\n",
      "Epoch 00005: val_accuracy did not improve from 0.00000\n",
      "Epoch 6/300\n",
      "190/190 - 57s - loss: 49.5680 - accuracy: 0.0000e+00 - val_loss: 45.8659 - val_accuracy: 0.0000e+00\n",
      "\n",
      "Epoch 00006: val_accuracy did not improve from 0.00000\n",
      "Epoch 7/300\n",
      "190/190 - 57s - loss: 24.9292 - accuracy: 5.2650e-04 - val_loss: 30.1368 - val_accuracy: 0.0000e+00\n",
      "\n",
      "Epoch 00007: val_accuracy did not improve from 0.00000\n",
      "Epoch 8/300\n",
      "190/190 - 57s - loss: 17.7349 - accuracy: 0.0079 - val_loss: 18.1979 - val_accuracy: 0.0049\n",
      "\n",
      "Epoch 00008: val_accuracy improved from 0.00000 to 0.00491, saving model to checkpoint/model.hdf5\n",
      "Epoch 9/300\n",
      "190/190 - 57s - loss: 14.2016 - accuracy: 0.0190 - val_loss: 16.7417 - val_accuracy: 0.0074\n",
      "\n",
      "Epoch 00009: val_accuracy improved from 0.00491 to 0.00737, saving model to checkpoint/model.hdf5\n",
      "Epoch 10/300\n",
      "190/190 - 57s - loss: 11.7540 - accuracy: 0.0284 - val_loss: 13.5214 - val_accuracy: 0.0221\n",
      "\n",
      "Epoch 00010: val_accuracy improved from 0.00737 to 0.02211, saving model to checkpoint/model.hdf5\n",
      "Epoch 11/300\n",
      "190/190 - 57s - loss: 10.8633 - accuracy: 0.0337 - val_loss: 54.9653 - val_accuracy: 0.0000e+00\n",
      "\n",
      "Epoch 00011: val_accuracy did not improve from 0.02211\n",
      "Epoch 12/300\n",
      "190/190 - 57s - loss: 12.2877 - accuracy: 0.0277 - val_loss: 13.7099 - val_accuracy: 0.0270\n",
      "\n",
      "Epoch 00012: val_accuracy improved from 0.02211 to 0.02703, saving model to checkpoint/model.hdf5\n",
      "Epoch 13/300\n",
      "190/190 - 57s - loss: 8.6799 - accuracy: 0.0498 - val_loss: 11.8668 - val_accuracy: 0.0467\n",
      "\n",
      "Epoch 00013: val_accuracy improved from 0.02703 to 0.04668, saving model to checkpoint/model.hdf5\n",
      "Epoch 14/300\n",
      "190/190 - 57s - loss: 7.5351 - accuracy: 0.0630 - val_loss: 11.2726 - val_accuracy: 0.0221\n",
      "\n",
      "Epoch 00014: val_accuracy did not improve from 0.04668\n",
      "Epoch 15/300\n",
      "190/190 - 57s - loss: 6.9182 - accuracy: 0.0711 - val_loss: 11.1616 - val_accuracy: 0.0614\n",
      "\n",
      "Epoch 00015: val_accuracy improved from 0.04668 to 0.06143, saving model to checkpoint/model.hdf5\n",
      "Epoch 16/300\n",
      "190/190 - 57s - loss: 6.0582 - accuracy: 0.0930 - val_loss: 10.6265 - val_accuracy: 0.0565\n",
      "\n",
      "Epoch 00016: val_accuracy did not improve from 0.06143\n",
      "Epoch 17/300\n",
      "190/190 - 57s - loss: 5.4145 - accuracy: 0.1118 - val_loss: 11.5806 - val_accuracy: 0.0639\n",
      "\n",
      "Epoch 00017: val_accuracy improved from 0.06143 to 0.06388, saving model to checkpoint/model.hdf5\n",
      "Epoch 18/300\n",
      "190/190 - 57s - loss: 5.0206 - accuracy: 0.1299 - val_loss: 10.9616 - val_accuracy: 0.0762\n",
      "\n",
      "Epoch 00018: val_accuracy improved from 0.06388 to 0.07617, saving model to checkpoint/model.hdf5\n",
      "Epoch 19/300\n",
      "190/190 - 57s - loss: 4.7627 - accuracy: 0.1464 - val_loss: 10.7162 - val_accuracy: 0.0983\n",
      "\n",
      "Epoch 00019: val_accuracy improved from 0.07617 to 0.09828, saving model to checkpoint/model.hdf5\n",
      "Epoch 20/300\n",
      "190/190 - 57s - loss: 4.6234 - accuracy: 0.1604 - val_loss: 10.8140 - val_accuracy: 0.1057\n",
      "\n",
      "Epoch 00020: val_accuracy improved from 0.09828 to 0.10565, saving model to checkpoint/model.hdf5\n",
      "Epoch 21/300\n",
      "190/190 - 57s - loss: 4.0557 - accuracy: 0.1973 - val_loss: 11.0648 - val_accuracy: 0.0934\n",
      "\n",
      "Epoch 00021: val_accuracy did not improve from 0.10565\n",
      "Epoch 22/300\n",
      "190/190 - 57s - loss: 3.1646 - accuracy: 0.2954 - val_loss: 10.6073 - val_accuracy: 0.1302\n",
      "\n",
      "Epoch 00022: val_accuracy improved from 0.10565 to 0.13022, saving model to checkpoint/model.hdf5\n",
      "Epoch 23/300\n",
      "190/190 - 57s - loss: 2.5617 - accuracy: 0.4086 - val_loss: 10.4673 - val_accuracy: 0.1523\n",
      "\n",
      "Epoch 00023: val_accuracy improved from 0.13022 to 0.15233, saving model to checkpoint/model.hdf5\n",
      "Epoch 24/300\n",
      "190/190 - 57s - loss: 2.4079 - accuracy: 0.4391 - val_loss: 10.7334 - val_accuracy: 0.1646\n",
      "\n",
      "Epoch 00024: val_accuracy improved from 0.15233 to 0.16462, saving model to checkpoint/model.hdf5\n",
      "Epoch 25/300\n",
      "190/190 - 57s - loss: 2.2660 - accuracy: 0.4800 - val_loss: 11.3586 - val_accuracy: 0.1597\n",
      "\n",
      "Epoch 00025: val_accuracy did not improve from 0.16462\n",
      "Epoch 26/300\n",
      "190/190 - 57s - loss: 2.1677 - accuracy: 0.5188 - val_loss: 11.6777 - val_accuracy: 0.1794\n",
      "\n",
      "Epoch 00026: val_accuracy improved from 0.16462 to 0.17936, saving model to checkpoint/model.hdf5\n",
      "Epoch 27/300\n",
      "190/190 - 57s - loss: 2.4941 - accuracy: 0.4451 - val_loss: 11.6485 - val_accuracy: 0.1646\n",
      "\n",
      "Epoch 00027: val_accuracy did not improve from 0.17936\n",
      "Epoch 28/300\n",
      "190/190 - 57s - loss: 2.4252 - accuracy: 0.4521 - val_loss: 12.1567 - val_accuracy: 0.1425\n",
      "\n",
      "Epoch 00028: val_accuracy did not improve from 0.17936\n",
      "Epoch 29/300\n",
      "190/190 - 57s - loss: 1.9195 - accuracy: 0.6062 - val_loss: 11.6351 - val_accuracy: 0.1966\n",
      "\n",
      "Epoch 00029: val_accuracy improved from 0.17936 to 0.19656, saving model to checkpoint/model.hdf5\n",
      "Epoch 30/300\n",
      "190/190 - 56s - loss: 1.6173 - accuracy: 0.7311 - val_loss: 11.6357 - val_accuracy: 0.2162\n",
      "\n",
      "Epoch 00030: val_accuracy improved from 0.19656 to 0.21622, saving model to checkpoint/model.hdf5\n",
      "Epoch 31/300\n",
      "190/190 - 57s - loss: 1.5056 - accuracy: 0.7899 - val_loss: 11.6443 - val_accuracy: 0.2064\n",
      "\n",
      "Epoch 00031: val_accuracy did not improve from 0.21622\n",
      "Epoch 32/300\n",
      "190/190 - 57s - loss: 1.4391 - accuracy: 0.8220 - val_loss: 11.7028 - val_accuracy: 0.2236\n",
      "\n",
      "Epoch 00032: val_accuracy improved from 0.21622 to 0.22359, saving model to checkpoint/model.hdf5\n",
      "Epoch 33/300\n",
      "190/190 - 57s - loss: 1.4773 - accuracy: 0.8020 - val_loss: 11.6316 - val_accuracy: 0.2187\n",
      "\n",
      "Epoch 00033: val_accuracy did not improve from 0.22359\n",
      "Epoch 34/300\n",
      "190/190 - 57s - loss: 1.3692 - accuracy: 0.8584 - val_loss: 11.9162 - val_accuracy: 0.2408\n",
      "\n",
      "Epoch 00034: val_accuracy improved from 0.22359 to 0.24079, saving model to checkpoint/model.hdf5\n",
      "Epoch 35/300\n",
      "190/190 - 57s - loss: 1.2788 - accuracy: 0.9079 - val_loss: 11.8360 - val_accuracy: 0.2555\n",
      "\n",
      "Epoch 00035: val_accuracy improved from 0.24079 to 0.25553, saving model to checkpoint/model.hdf5\n",
      "Epoch 36/300\n",
      "190/190 - 57s - loss: 1.2646 - accuracy: 0.9156 - val_loss: 12.2956 - val_accuracy: 0.2260\n",
      "\n",
      "Epoch 00036: val_accuracy did not improve from 0.25553\n",
      "Epoch 37/300\n",
      "190/190 - 57s - loss: 1.2499 - accuracy: 0.9224 - val_loss: 12.4206 - val_accuracy: 0.2408\n",
      "\n",
      "Epoch 00037: val_accuracy did not improve from 0.25553\n",
      "Epoch 38/300\n",
      "190/190 - 57s - loss: 1.2262 - accuracy: 0.9324 - val_loss: 12.5095 - val_accuracy: 0.2310\n",
      "\n",
      "Epoch 00038: val_accuracy did not improve from 0.25553\n",
      "Epoch 39/300\n",
      "190/190 - 57s - loss: 1.2050 - accuracy: 0.9382 - val_loss: 12.3724 - val_accuracy: 0.2580\n",
      "\n",
      "Epoch 00039: val_accuracy improved from 0.25553 to 0.25799, saving model to checkpoint/model.hdf5\n",
      "Epoch 40/300\n",
      "190/190 - 57s - loss: 1.1715 - accuracy: 0.9600 - val_loss: 12.2727 - val_accuracy: 0.2580\n",
      "\n",
      "Epoch 00040: val_accuracy did not improve from 0.25799\n",
      "Epoch 41/300\n",
      "190/190 - 57s - loss: 1.1620 - accuracy: 0.9644 - val_loss: 12.7031 - val_accuracy: 0.2482\n",
      "\n",
      "Epoch 00041: val_accuracy did not improve from 0.25799\n",
      "Epoch 42/300\n",
      "190/190 - 57s - loss: 1.1626 - accuracy: 0.9600 - val_loss: 12.6944 - val_accuracy: 0.2531\n",
      "\n",
      "Epoch 00042: val_accuracy did not improve from 0.25799\n",
      "Epoch 43/300\n",
      "190/190 - 57s - loss: 1.1552 - accuracy: 0.9588 - val_loss: 13.0275 - val_accuracy: 0.2727\n",
      "\n",
      "Epoch 00043: val_accuracy improved from 0.25799 to 0.27273, saving model to checkpoint/model.hdf5\n",
      "Epoch 00043: early stopping\n"
     ]
    }
   ],
   "source": [
    "batch_size = 30\n",
    "epochs = 300\n",
    "\n",
    "use_gpu = torch.cuda.is_available()\n",
    "\n",
    "import torch\n",
    "os.environ['TF_FORCE_GPU_ALLOW_GROWTH'] = 'true'\n",
    "torch.cuda.set_device(3)\n",
    "CUDA_VISIBLE_DEVICES=3\n",
    "\n",
    "from tensorflow.keras.callbacks import EarlyStopping,ReduceLROnPlateau\n",
    "\n",
    "model.compile(loss={'ctc': lambda y_true, y_pred: y_pred}, optimizer = 'adam', metrics=['accuracy'])\n",
    "\n",
    "os.makedirs('checkpoint', exist_ok=True)\n",
    "\n",
    "filepath=\"checkpoint/model.hdf5\"\n",
    "es = EarlyStopping(monitor='val_loss', mode='min', verbose=1, patience=20)\n",
    "reduce_lr = ReduceLROnPlateau(monitor='val_loss', factor=0.7,\n",
    "                              patience=5, min_lr=0.00001)\n",
    "\n",
    "checkpoint = ModelCheckpoint(filepath=filepath, monitor='val_accuracy', verbose=1, save_best_only=True, mode='auto')\n",
    "callbacks_list = [checkpoint,es,reduce_lr]\n",
    "\n",
    "with tf.device(\"/gpu:3\"):\n",
    "    history = model.fit(x=[train_images, train_padded_label, train_input_length, train_label_length],\n",
    "                        y=np.zeros(len(train_images)),\n",
    "                        batch_size=batch_size, \n",
    "                        epochs=epochs, \n",
    "                        validation_data=([val_images, val_padded_label, val_input_length, val_label_length], [np.zeros(len(val_images))]),\n",
    "                        verbose=2,\n",
    "                        callbacks=callbacks_list)"
   ]
  },
  {
   "cell_type": "code",
   "execution_count": 26,
   "id": "909c45b6-3391-40f2-a1f6-1752f8377b1a",
   "metadata": {},
   "outputs": [],
   "source": [
    "import time"
   ]
  },
  {
   "cell_type": "code",
   "execution_count": 27,
   "id": "a4749c67-12ca-4934-9cd5-6c306f4574a5",
   "metadata": {},
   "outputs": [
    {
     "name": "stdout",
     "output_type": "stream",
     "text": [
      "5.123211860656738\n"
     ]
    }
   ],
   "source": [
    "with tf.device(\"/gpu:3\"):\n",
    "    start = time.time()\n",
    "    act_model.load_weights(filepath)\n",
    "    prediction = act_model.predict(val_images)\n",
    "\n",
    "    decoded = K.ctc_decode(prediction, \n",
    "                           input_length=np.ones(prediction.shape[0]) * prediction.shape[1],\n",
    "                           greedy=True)[0][0]\n",
    "    out = K.get_value(decoded)\n",
    "    end = time.time()\n",
    "    print(end-start)"
   ]
  },
  {
   "cell_type": "code",
   "execution_count": 28,
   "id": "27491c19-4bd1-4565-b85f-5aa1d6787167",
   "metadata": {},
   "outputs": [
    {
     "name": "stdout",
     "output_type": "stream",
     "text": [
      "Ground truth -> Recognized\n",
      "[ERR:3] \"[чаю повѣриш ваша милость что я iстинно не за гулянем\" -> \"[чаю повѣриш вашамилость что я iстинно не запулянем\"\n",
      "[OK] \"петръ\" -> \"петръ\"\n",
      "[OK] \"войка доволное число бу\" -> \"войка доволное число бу\"\n",
      "[OK] \"2\" -> \"2\"\n",
      "[ERR:1] \"та\" -> \"тта\"\n",
      "[ERR:2] \"ровати iзволил i единым словом\" -> \"ровати iзволил лединым словом\"\n",
      "[ERR:1] \"надежду о тишинѣ\" -> \"надерду о тишинѣ\"\n",
      "[OK] \"как\" -> \"как\"\n",
      "[ERR:3] \"квартиры как в городах так i въ селах\" -> \"ковартиры как в городах так я въселах\"\n",
      "[ERR:3] \"понеже в том писмѣ горазда о том прошено\" -> \"поеже в том писмѣ роразда о том прошепо\"\n",
      "[OK] \"ожидат также i то обяви королю\" -> \"ожидат также i то обяви королю\"\n",
      "[ERR:4] \"ныне получена подлинная вѣдомость от генерала\" -> \"ныне получе на подлинноя вѣдомость отгонерала\"\n",
      "[ERR:6] \"писмо от вас на которыя не имѣем\" -> \"писмо отван на которыя не iловем\"\n",
      "[ERR:1] \"о финланском дѣйствѣ донеси что войски на\" -> \"о финланском дѣй ствѣ донеси что войски на\"\n",
      "[ERR:2] \"быт трем тысячем лѣтом а зимою вполы\" -> \"быт трем тыся чем лѣтом а зимою в полы\"\n",
      "[ERR:4] \"приняф короля шведского опъределит с ним\" -> \"прики короля шведского о пъределит с ним\"\n",
      "[ERR:3] \"писмо ваше купно з жестоким отказазом\" -> \"писмоваше копно i жестоким отказазом\"\n",
      "[OK] \"2\" -> \"2\"\n",
      "[ERR:3] \"+ смотря на его маршъ\" -> \"+ смотрянаегомаршъ\"\n",
      "[OK] \"что нынѣ паки поттвержаетца i сие\" -> \"что нынѣ паки поттвержаетца i сие\"\n",
      "[ERR:3] \"скажет вам сын вашъ а дорога\" -> \"скажет вам сы вешь а дорога\"\n",
      "[ERR:1] \"iз карлъсъбада петръ\" -> \"iз карлъъбада петръ\"\n",
      "[ERR:1] \"я також буду к войску в померанию\" -> \"я також буду кевойску в померанию\"\n",
      "[ERR:4] \"iбо лутче радом фут за фут добрым порятком непъ\" -> \"i болутчерадом фут зафут добрым порятком непъ\"\n",
      "[ERR:1] \"тысячи домам [iз которых половина тѣ ко\" -> \"тысячи домам [iз которых половина тѣко\"\n",
      "[OK] \"всемогущиi\" -> \"всемогущиi\"\n",
      "[ERR:1] \"рыя отвѣтствую мир которой вы нынѣ учинили\" -> \"рыя отвѣтствую мир которой вынынѣ учинили\"\n",
      "[ERR:1] \"конференцию с вами допушен был i что можете\" -> \"конференцию с вами дпушен был i что можете\"\n",
      "[ERR:5] \"так далеко писал iх корофъскому\" -> \"так далеко писал i хкоролефъ скому\"\n",
      "[ERR:4] \"лутче а обше хуже первее лутче что для себя\" -> \"лутче а обшехуже перелутче что для себя\"\n",
      "[ERR:56] \"+ а которыя дерева для неудобства осталися i iз тѣх здѣлат\" -> \"от\"\n",
      "[ERR:1] \"не iмѣю i дѣлаю толко для них iстин\" -> \"не iмѣю i дѣлаю толко дляних iстин\"\n",
      "[OK] \"7\" -> \"7\"\n",
      "[OK] \"ца на брауншвитской съѣздъ гдѣ\" -> \"ца на брауншвитской съѣздъ гдѣ\"\n",
      "[ERR:3] \"отсюду iли пѣхоты\" -> \"от бѣду iли пѣхоты\"\n",
      "[ERR:7] \"я починены i хотя они негодны но уже труд i убыток\" -> \"я починены i хотя о нинегодныно уже труд субыт\"\n",
      "[ERR:1] \"ки оттол непъриятелю да\" -> \"ки оттож непъриятелю да\"\n",
      "[OK] \"петръ\" -> \"петръ\"\n",
      "[ERR:3] \"оной будет i с обѣiх сторон крѣпъко бом\" -> \"оной будет i собѣiх сторон крѣпъ кобом\"\n",
      "[OK] \"но скоро i соглашатца съ ге\" -> \"но скоро i соглашатца съ ге\"\n",
      "[OK] \"господа сенат\" -> \"господа сенат\"\n",
      "[ERR:1] \"i тако к в ни откул непъ\" -> \"i тако к в ни отку непъ\"\n",
      "[ERR:2] \"1 бомбардир галиет\" -> \"3 бомбардиргалиет\"\n",
      "[ERR:3] \"i на откуп давали как онѣ знают i когда\" -> \"i на отсог давали как онѣ знают i когда\"\n",
      "[ERR:1] \"беди [которую возможно запъ\" -> \"беди [которую возможно за пъ\"\n",
      "[OK] \"дадим а что iсте\" -> \"дадим а что iсте\"\n",
      "[OK] \"мѣ транспорта того\" -> \"мѣ транспорта того\"\n",
      "[ERR:2] \"слава богу здорово i чаем к воскресен\" -> \"слава богу здорово iдаем к воскресен\"\n",
      "[ERR:3] \"iз санкъ питербурха въ 31 д петръ\" -> \"iз аскъ питербурха въ 21 д петръ\"\n",
      "[ERR:3] \"чрез полшу бутто б оной трактат не застал меня\" -> \"чрез голшу бутто б оной трамат не застал меня\"\n",
      "[ERR:3] \"дироване употреблят на недели раза раза по д\" -> \"дироване употреблят на недели разара за под\"\n",
      "[OK] \"i протчихъ будут содержат при iх вѣрѣ\" -> \"i протчихъ будут содержат при iх вѣрѣ\"\n",
      "[OK] \"неприятеля в полон\" -> \"неприятеля в полон\"\n",
      "[ERR:8] \"iз грипсъвалда въ 5 д авъгуста 1712\" -> \"iз грипсовайда въ 3 д авѣлпости 1712\"\n",
      "[ERR:4] \"ресу чтоб по сему конечно учинит а ежели откажут\" -> \"реу чтоб посему конеiно учинит а ежели откаут\"\n",
      "[ERR:3] \"в торнъ\" -> \"втуднъ\"\n",
      "[ERR:1] \"натѣ чтоб нефъти доволное чис\" -> \"на тѣ чтоб нефъти доволное чис\"\n",
      "[ERR:17] \"[правъда что про других не вѣдаю\" -> \"[нѣвани прод ругинневъмю\"\n",
      "[OK] \"зы нынѣ посылаю о сем что же о а\" -> \"зы нынѣ посылаю о сем что же о а\"\n",
      "[ERR:1] \"датской в кюгебухтъ пошел\" -> \"датской в кюгебутъ пошел\"\n",
      "[OK] \"господин вице адмирал\" -> \"господин вице адмирал\"\n",
      "[OK] \"ежели транпортъ\" -> \"ежели транпортъ\"\n",
      "[OK] \"будет послѣдоват непъриятелю а еже\" -> \"будет послѣдоват непъриятелю а еже\"\n",
      "[ERR:1] \"числѣх февъраля iбо к ревелю\" -> \"числѣх февъраля iбо кревелю\"\n",
      "[OK] \"ругими обижены не были о поiскѣ датского\" -> \"ругими обижены не были о поiскѣ датского\"\n",
      "[OK] \"ному паролю iменем\" -> \"ному паролю iменем\"\n",
      "[ERR:1] \"с поляками во удержаниi оных про\" -> \"с поляками воудержаниi оных про\"\n",
      "[ERR:22] \"лопататак тысяч пятдѣ iли понужде четы\" -> \"ло пата так ткасѣс iѣ туж деит\"\n",
      "[OK] \"зборы которыя берутца въ ратушу для\" -> \"зборы которыя берутца въ ратушу для\"\n",
      "[ERR:1] \"а конница малой урон претерпѣла\" -> \"а конница малой урот претерпѣла\"\n",
      "[OK] \"i ѣхат самому въ войско i данныя писма отдат\" -> \"i ѣхат самому въ войско i данныя писма отдат\"\n",
      "[OK] \"а скомповей 50 прамы\" -> \"а скомповей 50 прамы\"\n",
      "[ERR:1] \"что для зближение гет\" -> \"что для з ближение гет\"\n",
      "[ERR:2] \"ры сами пересматривали i росписи закрѣ\" -> \"рысами пересмат ривали i росписи закрѣ\"\n",
      "[ERR:1] \"а буде от вас пойдет то паки насту\" -> \"а буде от вас полдет то паки насту\"\n",
      "[OK] \"i то iсполнено будет\" -> \"i то iсполнено будет\"\n",
      "[ERR:2] \"на дорогѣ удерживат чтоб неско\" -> \"надорогѣ удержив ат чтоб неско\"\n",
      "[ERR:2] \"соли которою учинит послѣдую\" -> \"воли которою учинит послѣдою\"\n",
      "[ERR:6] \"нин яко один от пѣхоты употреблен быт не может\" -> \"нин я коодин от пѣдоты уподреблебыт не может\"\n",
      "[ERR:1] \"i для того отозван сюды дабы\" -> \"i для того отозвансюды дабы\"\n",
      "[OK] \"1\" -> \"1\"\n",
      "[OK] \"обявъляю что с помощию божиею мы мастера\" -> \"обявъляю что с помощию божиею мы мастера\"\n",
      "[ERR:1] \"дет понеже не к в\" -> \"дет пънеже не к в\"\n",
      "[OK] \"двѣ тысячи рублефъ того ради\" -> \"двѣ тысячи рублефъ того ради\"\n",
      "[OK] \"послѣднѣй\" -> \"послѣднѣй\"\n",
      "[ERR:3] \"о азовѣ болше не могли здѣ\" -> \"о азовѣ болшем неможли здѣ\"\n",
      "[OK] \"по котором наши также iз пушекъ\" -> \"по котором наши также iз пушекъ\"\n",
      "[ERR:1] \"рой к печерской крѣ\" -> \"рой к пелерской крѣ\"\n",
      "[ERR:1] \"ли по своему разсмотрению\" -> \"ли посвоему разсмотрению\"\n",
      "[ERR:2] \"о том отвѣт дал а понеже под сей упа\" -> \"о том отвѣт дал а понеже под сей угра\"\n",
      "[ERR:5] \"войска держат невоз\" -> \"вой ксадержат нвом\"\n",
      "[OK] \"i протифъ сего поступайте чтоб\" -> \"i протифъ сего поступайте чтоб\"\n",
      "[ERR:4] \"протиф седмава пункта стат\" -> \"протиф седмова пуншта стачи\"\n",
      "[OK] \"+\" -> \"+\"\n",
      "[OK] \"6\" -> \"6\"\n",
      "[ERR:12] \"же е к в полской наш любезнейшиi брат i союзник нам собшил\" -> \"жей екъ полской нашлю безнейшиi брат i с бюник нарсоншил\"\n",
      "[ERR:3] \"тоу а тежелыя пушки в вышереченном зам\" -> \"ту ате желыя пушки в вышереченном зам\"\n",
      "[ERR:1] \"возмущению быт i при том конечно\" -> \"возмущению быт i притом конечно\"\n",
      "[ERR:2] \"с мункѣра не дошед новой петръ\" -> \"с мункѣране дошедновой петръ\"\n",
      "[ERR:38] \"+ о чем вѣдомость iмѣет гановерской послал\" -> \"+ от\"\n",
      "[ERR:2] \"лѣдних чисел сентеб\" -> \"лѣдниб чиiел сентеб\"\n",
      "[OK] \"ралю полскому войну обявили\" -> \"ралю полскому войну обявили\"\n",
      "[ERR:1] \"удобнее чтоб ни фел\" -> \"удобнее чтоб нифел\"\n",
      "[ERR:1] \"господин сенат\" -> \"голподин сенат\"\n",
      "[ERR:6] \"генералу п лейтнанту рену чин генерала полного\" -> \"генералу върейтнанту рену чин пенералополного\"\n",
      "[ERR:1] \"да слабы також i протчее упъравит\" -> \"да слабы також i протчееупъравит\"\n",
      "[ERR:4] \"во i протчим там доволство ес\" -> \"до i преотчим там доводствоес\"\n",
      "[OK] \"смотрѣт не надобно что онѣ\" -> \"смотрѣт не надобно что онѣ\"\n",
      "[ERR:2] \"опасатца не iмѣет ни его\" -> \"опасатца не iмѣетниего\"\n",
      "[OK] \"маршу зело томны а когда придут к го\" -> \"маршу зело томны а когда придут к го\"\n",
      "[OK] \"телю досаждат бы тѣм\" -> \"телю досаждат бы тѣм\"\n",
      "[ERR:2] \"цию получи мы iз констан\" -> \"цию получил мы iз констат\"\n",
      "[OK] \"ратца камисару к в\" -> \"ратца камисару к в\"\n",
      "[ERR:1] \"полонской\" -> \"поленской\"\n",
      "[OK] \"ком мѣстѣ чтоб караблей\" -> \"ком мѣстѣ чтоб караблей\"\n",
      "[OK] \"чему мы удивъляемся\" -> \"чему мы удивъляемся\"\n",
      "[ERR:1] \"марта но въ ваших писмах напи\" -> \"марта ко въ ваших писмах напи\"\n",
      "[ERR:2] \"мѣсно надѣюсь но нынѣ незап\" -> \"мѣсно надѣюсъ но нынѣ незан\"\n",
      "[ERR:6] \"слонность [как выше писано] i доброхотство к нам не от\" -> \"слонность [сак вышеписано] i доброхот ство к намнтеот\"\n",
      "[ERR:2] \"желанию королевского величества iзполнено\" -> \"желанию короле вского величентва iзполнено\"\n",
      "[OK] \"в брегадиры\" -> \"в брегадиры\"\n",
      "[OK] \"бардируйтѣ без перемолку i когда\" -> \"бардируйтѣ без перемолку i когда\"\n",
      "[OK] \"кромѣ того что дамой iтит дѣлат\" -> \"кромѣ того что дамой iтит дѣлат\"\n",
      "[ERR:5] \"по нынешним конюнктурам доволно кромѣ 10 пункта\" -> \"прнынешним конюктурам доволно кромѣ 10 пукти\"\n",
      "[ERR:2] \"реi в серетках а кавалериi\" -> \"реi всеретках а кавайлериi\"\n",
      "[ERR:1] \"рым також ста два для наваждения\" -> \"рым також ста два для на важдения\"\n",
      "[ERR:6] \"ко такога великаго азарта учи\" -> \"кота кога вели каго а зараучи\"\n",
      "[ERR:13] \"полкъ [неосторожностю полковъника i поразби\" -> \"полшѣ i нестерожшию полко въ нина i поразби\"\n",
      "[ERR:2] \"таким же образом какъ i на плоских iи горизон\" -> \"таким же образом какъ i на проских i и горизон\"\n",
      "[OK] \"2\" -> \"2\"\n",
      "[OK] \"ежели непъриятель безсилен то оного гнат\" -> \"ежели непъриятель безсилен то оного гнат\"\n",
      "[ERR:7] \"шпангоуты декъбалки також чтоб сасновы\" -> \"шраигоутыi декъ балки також чтоб баснеова\"\n",
      "[OK] \"болшой флот шведской от них коне\" -> \"болшой флот шведской от них коне\"\n",
      "[ERR:1] \" оставя в печерской\" -> \"5 оставя в печерской\"\n",
      "[OK] \"будет\" -> \"будет\"\n",
      "[ERR:4] \"торыя заводы iмѣют яко кажевъники i пърот\" -> \"торыя за въды iмѣют якокажевъ ники i пърот\"\n",
      "[ERR:1] \"[в сем я весма еще вчерашним\" -> \"[всем я весма еще вчерашним\"\n",
      "[ERR:1] \"так i нынѣ обявъляю\" -> \"так i нынѣ бявъляю\"\n",
      "[ERR:3] \"вѣдоя доброе серце ваше о писмѣ куракина\" -> \"вѣтя доброе серце ваше о писмѣ кураки на\"\n",
      "[ERR:1] \"цовом вице адмирал обявил что полу\" -> \"цо вом вице адмирал обявил что полу\"\n",
      "[ERR:3] \"въ такой нечаемой отмѣнѣ же\" -> \"въ такой нечелемой отмѣнѣже\"\n",
      "[ERR:2] \"ложим на мѣре гдѣ кому что дѣлат\" -> \"ложим намѣрегдѣ кому что дѣлат\"\n",
      "[ERR:2] \"луча указа от сената не дават ничево\" -> \"луча указа от сената недава ничево\"\n",
      "[ERR:2] \"что в опискѣ много въреме\" -> \"что вопискѣ много въъреме\"\n",
      "[ERR:1] \"господин подканслѣр\" -> \"господин подканслѣс\"\n",
      "[ERR:1] \"вполы одна от другой а которыя въ 50 iли 48\" -> \"в полы одна от другой а которыя въ 50 iли 48\"\n",
      "[OK] \"на берег\" -> \"на берег\"\n",
      "[ERR:3] \"же в сиi 3 мѣсеце се\" -> \"же всиi 3 мѣсе се\"\n",
      "[OK] \"2\" -> \"2\"\n",
      "[ERR:6] \"здѣс живу но за нуждою аднакож чаю в первых чисел iю\" -> \"здусживу но за нуждою аднакож чаю в первых чис селю\"\n",
      "[ERR:2] \"дабы вѣдали сей пор сие что жителем\" -> \"дабы вѣдали ай пор сие что жителем\"\n",
      "[ERR:2] \"годам iмѣли оную в руках но потом ⊕\" -> \"годам iмѣли оную вруках но потом с\"\n",
      "[OK] \"что онѣ в сей войнѣ ни\" -> \"что онѣ в сей войнѣ ни\"\n",
      "[ERR:1] \"стрѣчю послат денги как вступите в полшу\" -> \"стрѣчю послат денгикак вступите в полшу\"\n",
      "[OK] \"ва дня нашего добра\" -> \"ва дня нашего добра\"\n",
      "[ERR:1] \"ропустит а наiпаче таво смотрѣт\" -> \"ропустит а наiпаче тово смотрѣт\"\n",
      "[ERR:4] \"лодым облекшися во вся одежды купъно\" -> \"лодым облекши сево вся одѣжды купъно\"\n",
      "[ERR:6] \"не так а наiпаче на морѣ ежели б мы\" -> \"леонак а на iпаче наморѣ ежели  мы\"\n",
      "[ERR:2] \"пришли чрез почту библею да особ\" -> \"пришли чрез почту библею да оо\"\n",
      "[ERR:1] \"регулярных а т\" -> \"регулярных ат\"\n",
      "[ERR:3] \"пришли к нам пѣвъчих с протопопом а у се\" -> \"пришли к нампѣвъчих с прото по пом а у се\"\n",
      "[ERR:1] \"нами сказат что ежели не крес\" -> \"мами сказат что ежели не крес\"\n",
      "[OK] \"непъром протиф то\" -> \"непъром протиф то\"\n",
      "[ERR:5] \"цеiх вахтером обор i ундер цеiх вахте\" -> \"цеiх в ахтером обор i ундорце iх ватте\"\n",
      "[ERR:1] \"землю летѣт i для отдохъновения\" -> \"землюлетѣт i для отдохъновения\"\n",
      "[ERR:5] \"матка здравъствуй\" -> \"леткее здравъствой\"\n",
      "[OK] \"смотрѣть чтоб ежели спѣшат\" -> \"смотрѣть чтоб ежели спѣшат\"\n",
      "[OK] \"1000\" -> \"1000\"\n",
      "[ERR:3] \"вучева лда какой въреды не пъретерпѣ\" -> \"ручева я да какой въреды не пъретерпѣ\"\n",
      "[ERR:2] \"о сем о фъсем просите резелю\" -> \"о сем офъсем проситерезелю\"\n",
      "[ERR:2] \"пока сойдет работа а потом от\" -> \"пека сойдет работа а потом ог\"\n",
      "[ERR:6] \"[не два но три] мо перво к нам\" -> \"[недванори] мо перво кнан\"\n",
      "[ERR:3] \"i о том i чтоб нам не пъричте\" -> \"i2том i чтоб нам не пъричте\"\n",
      "[OK] \"лучили въротчем предаем вас в сох\" -> \"лучили въротчем предаем вас в сох\"\n",
      "[ERR:3] \"док войски саюзником зело нужны\" -> \"удол войски саюзником зелонужны\"\n",
      "[OK] \"давълеет а оную линѣ\" -> \"давълеет а оную линѣ\"\n",
      "[OK] \"тупалъ\" -> \"тупалъ\"\n",
      "[ERR:3] \"iбо\" -> \"кт\"\n",
      "[OK] \"прежнее разорение будет в полше того для лут\" -> \"прежнее разорение будет в полше того для лут\"\n",
      "[OK] \"ком i то учиним о реновых служите\" -> \"ком i то учиним о реновых служите\"\n",
      "[ERR:2] \"нит не мог как я мог разумѣт для двух при\" -> \"нит не могкак я могразумѣт для двух при\"\n",
      "[ERR:2] \"рена будет то вдвое\" -> \"рена будет то в двае\"\n",
      "[OK] \"3\" -> \"3\"\n",
      "[ERR:1] \"более не дѣлат я сказал что я ни\" -> \"более не дѣлат ясказал что я ни\"\n",
      "[ERR:6] \"iмѣют такую же силу i свободность как i оборфискал\" -> \"iмѣют такую же силу i своборность как iобррисна\"\n",
      "[ERR:5] \"в милости i призрѣнi\" -> \"вмниости i празрѣн\"\n",
      "[ERR:2] \"iз малоги ко мстѣ iли сясѣ\" -> \"iз малоги комстѣ iли ся ѣ\"\n",
      "[ERR:1] \"тах обрѣтаютца\" -> \"тах обрѣтаотца\"\n",
      "[ERR:4] \"iз питербурха въ 14 д апъ петръ\" -> \"iз питербурха въ 12 д а го петръ\"\n",
      "[ERR:3] \"[кромѣ полкоф полевой армѣi] iз укъраiнцофъ такъже\" -> \"[кромѣ полскоф полевой армѣi] iз укъраiцофъ такоже\"\n",
      "[OK] \"бочен\" -> \"бочен\"\n",
      "[ERR:1] \"сту приналежит приготовъ\" -> \"сту приналежит приготавъ\"\n",
      "[ERR:2] \"господин амбасадер\" -> \"господин ам ба садер\"\n",
      "[ERR:12] \"заваеванное i въ том говорит отданием …\" -> \"зава еванное i въ том говърит от данием ли флазош\"\n",
      "[ERR:3] \"яс на бога + ради хана принят\" -> \"яс на бога  радиха на принят\"\n",
      "[OK] \"+\" -> \"+\"\n",
      "[ERR:2] \"сюды сказал что флот iх уже близ кюге\" -> \"сюды сказал что флот iх уже близнюге\"\n",
      "[ERR:2] \"iз лагару от риги въ 14 д ноебря 1709\" -> \"iз лапару от риги въ 12 д ноебря 1709\"\n",
      "[ERR:2] \"закапаватца по ука\" -> \"закапаватца т ука\"\n",
      "[ERR:1] \"я на ваше в яко iскусного\" -> \"я на ваше вяко iскусного\"\n",
      "[ERR:2] \"будет а ежели б ему мочно отсидѣт\" -> \"будет а ежели р ему мочно от сидѣт\"\n",
      "[ERR:3] \"обяви что в таком случае болше iнаго дѣлат не мо\" -> \"обяви что в таком случае болше i нагодѣлат немо\"\n",
      "[OK] \"i писатца толко офицерам а шлехетству\" -> \"i писатца толко офицерам а шлехетству\"\n",
      "[ERR:1] \"обяви каралефскому величеству что мы\" -> \"обявикаралефскому величеству что мы\"\n",
      "[ERR:1] \"мѣлъкости воды\" -> \"мѣлъ кости воды\"\n",
      "[OK] \"петръ\" -> \"петръ\"\n",
      "[ERR:5] \"ху невы тосна вверхъ на петнатца\" -> \"гу невытосна воервъ на петнанца\"\n",
      "[ERR:5] \"[как в совѣтѣ по пишете для\" -> \" как вовѣ нѣ по пишете для\"\n",
      "[OK] \"племянницы\" -> \"племянницы\"\n",
      "[ERR:1] \"зом что учинят\" -> \"зом что  учинят\"\n",
      "[ERR:9] \"какорами набиват старыми кана\" -> \"какорими пажих вит ставшеми кана\"\n",
      "[OK] \"горазда смотрите чтоб были совершенно\" -> \"горазда смотрите чтоб были совершенно\"\n",
      "[ERR:2] \"i о офицерам пришедших караблей чтоб\" -> \"i о офицерам пришедших караблечтоб\"\n",
      "[ERR:2] \"iз рагору от полтавы въ 8 д iюня 1709\" -> \"iз рагору от полта вы въ 2 д iюня 1709\"\n",
      "[ERR:4] \"жат i самому ныне жит зиму в донецъ\" -> \"жат i самому нонежит диму вдонецъ\"\n",
      "[ERR:3] \"iх i много было понеже безоружны]\" -> \"i iмного было понеже безорунны]\"\n",
      "[ERR:7] \"рѣлѣ мѣсеце штетин\" -> \"рѣнемѣ сеце шмемиж\"\n",
      "[ERR:4] \"ю перейтит за реку [под петровъским мостом]\" -> \"ю перейтит за реку [под перовъка мостом]\"\n",
      "[ERR:1] \"что в киефъской губерниi в конце се\" -> \"что в киефъской губерниi в концесе\"\n",
      "[ERR:5] \"для бога при\" -> \"д жа при\"\n",
      "[ERR:1] \"крайней возмозности чтоб\" -> \"крайней возмезности чтоб\"\n",
      "[OK] \"не iзволите\" -> \"не iзволите\"\n",
      "[ERR:1] \"дѣли а по упъровълениi укрепъления сего га\" -> \"дѣли а поупъровълениi укрепъления сего га\"\n",
      "[ERR:1] \"iзволилъ\" -> \"iзволиле\"\n",
      "[ERR:1] \"циi заран для того обяви\" -> \"циi зарак для того обяви\"\n",
      "[OK] \"привѣсть то хотя б\" -> \"привѣсть то хотя б\"\n",
      "[ERR:7] \"как руским так i iноземцом не брат з бол\" -> \"как руским так i iно земцом небрат нѣ\"\n",
      "[ERR:4] \"величеству при сем с вашим\" -> \"вфеличеству при сем своши\"\n",
      "[OK] \"нее то кладем на ва\" -> \"нее то кладем на ва\"\n",
      "[ERR:1] \"а пълотит на версту от питер\" -> \"а пълотит наверсту от питер\"\n",
      "[ERR:5] \"цат то б зело iзрядно не дожидатца\" -> \"цат то б зелеiзряноно дожидатца\"\n",
      "[ERR:1] \"ликой урон могут учинит а конница\" -> \"ликой уронмогут учинит а конница\"\n",
      "[OK] \"въ полшу чрез полшу еже\" -> \"въ полшу чрез полшу еже\"\n",
      "[ERR:1] \"ли когда понадабитца чтоб\" -> \"ли когда пона дабитца чтоб\"\n",
      "[ERR:2] \"лят а iменно вспомочь к собранию\" -> \"лят а iменно вспомочь сксобранию\"\n",
      "[ERR:5] \"нѣт то б одну сто тысяч послат х куракину\" -> \"нѣт то б одну ото тысяк послат хку икину\"\n",
      "[ERR:3] \"видимо есть что чаю з бо\" -> \"видимо есть что чаю до\"\n",
      "[ERR:1] \"зиловым квартирам войску\" -> \"зило вым квартирам войску\"\n",
      "[ERR:3] \"+ з генаралитеiтом iмѣли\" -> \"+ з генарали те i том iмѣли\"\n",
      "[ERR:1] \"також надлежит ему iмѣть нѣскол под собою\" -> \"також надлежит ему iмѣть нѣсколпод собою\"\n",
      "[ERR:1] \"ни одной крѣпости в руках а непърия\" -> \"ниодной крѣпости в руках а непърия\"\n",
      "[OK] \"поучил в котором пише\" -> \"поучил в котором пише\"\n",
      "[ERR:8] \"пушек 24–i–18 фунтовых – 40\" -> \"пушек 24i1iю фунтовых ло\"\n",
      "[ERR:1] \"+ нам\" -> \"+нам\"\n",
      "[OK] \"ден другой в пересылъках промед\" -> \"ден другой в пересылъках промед\"\n",
      "[ERR:1] \"i датским чего для ежели так будет\" -> \"i дат ским чего для ежели так будет\"\n",
      "[ERR:1] \"то зело опасно что в отлучениi вашем\" -> \"то зело опасно что вотлучениi вашем\"\n",
      "[ERR:2] \"капитан порутчик синявин для припро\" -> \"капитан горутчик синявин для при про\"\n",
      "[OK] \"iз торгоу въ 14 д сентебря петръ\" -> \"iз торгоу въ 14 д сентебря петръ\"\n",
      "[ERR:2] \"тания\" -> \"сытания\"\n",
      "[OK] \"понеже в помераниi вышним каман\" -> \"понеже в помераниi вышним каман\"\n",
      "[ERR:5] \"мою на красной горкѣ при крѣпости свата\" -> \"мою накрасной ортѣ прикрѣпости свато\"\n",
      "[ERR:1] \"город вошли i с помощию божиею сие\" -> \"город вошли i с помощию божиею сич\"\n",
      "[ERR:3] \"тыре полковых мѣдных 4 да по четыре\" -> \"ты ре полковых мѣдных i да почетыре\"\n",
      "[ERR:9] \"тарых шрофах i на разсуждениi сената\" -> \"тарых кородаж i на разсубудениi сеяма\"\n",
      "[OK] \"2\" -> \"2\"\n",
      "[OK] \"+\" -> \"+\"\n",
      "[ERR:5] \"будут фискалы доносит] до наября пер\" -> \"будут фискалы доносит ]з доная бряпер\"\n",
      "[ERR:6] \"въ 14 д октебря 1713\" -> \"въ р4отетря 1713\"\n",
      "[ERR:4] \"онѣ возмут то б для лутчей iх ласки полными\" -> \"онѣ возмут тоб дя я лутчек iх ласки полными\"\n",
      "[ERR:3] \"славим а чаю что iныя увидят i самого хрис\" -> \"славим а чаю что iнылу видят i самого хрис\"\n",
      "[ERR:1] \"iзволте попечение iмѣт о пъриго\" -> \"iзволте попечение iмѣт опъриго\"\n",
      "[OK] \"будет одно мѣста\" -> \"будет одно мѣста\"\n",
      "[ERR:2] \"дабы там остатца а не отсылан\" -> \"дабы там остеца а не отсылан\"\n",
      "[ERR:1] \"смотрѣт во въсем государствѣ\" -> \"сморѣт во въсем государствѣ\"\n",
      "[ERR:2] \"i въ голштинию велено\" -> \"iвъголштинию велено\"\n",
      "[ERR:3] \"что медленно ведет] зело тужу а наiпаче ког\" -> \"чтомедленно ведет] зело тужу а на i паче ког\"\n",
      "[OK] \"въ 1 д генваря 1712\" -> \"въ 1 д генваря 1712\"\n",
      "[OK] \"1709\" -> \"1709\"\n",
      "[ERR:2] \"но оного с тѣм к нам отправъте дабы без поте\" -> \"на оного стѣм к нам отправъте дабы без поте\"\n",
      "[ERR:4] \"i свободной проход з болшова моря болшими ка\" -> \"i свъбодной проход з болнроваморя болшими ка\"\n",
      "[ERR:5] \"за повышения чину моего за что рад впъ\" -> \"заго вышения чину моего зачторад впъ\"\n",
      "[ERR:7] \"i вчериго дни мы пошли от березовых островоф i сего\" -> \"i вирреподни мы пошли от березовых остовод i сего\"\n",
      "[ERR:4] \"о удержане жалованя\" -> \"ю ъдержан ежалованя\"\n",
      "[OK] \"с вашева указу поступат а для лутчего\" -> \"с вашева указу поступат а для лутчего\"\n",
      "[ERR:3] \"туды спустит дабы совершенная без сумнѣния\" -> \"туды спустит дабы совершеная бежсумнѣния\"\n",
      "[ERR:5] \"опасаюсь нѣт ли с бургерами\" -> \"опасаю сънѣтли сбургерами\"\n",
      "[OK] \"четыре полка дал своiх к п ежели турки на вес\" -> \"четыре полка дал своiх к п ежели турки на вес\"\n",
      "[OK] \"оком смотрѣли а не такъ\" -> \"оком смотрѣли а не такъ\"\n",
      "[ERR:1] \"с которою оной iмѣет слѣдоват\" -> \"с которою оной iмѣет с лѣдоват\"\n",
      "[ERR:6] \"почта уставъкою замешкаетца\" -> \"почта  ставокою не замешкаетда\"\n",
      "[ERR:8] \"iз грипъсвалда въ 5 д авъгуста 1712\" -> \"iз грипъывалда въ 3 д авъгустуи ица 2\"\n",
      "[ERR:5] \"ми на фсе чево похотят кромѣ шклаф\" -> \"мина ф сем чево похотят еро мѣ шклаф\"\n",
      "[ERR:1] \"своей а дѣло то что по отпускѣ фран\" -> \"своей а дѣло то что по отпускѣ фан\"\n",
      "[ERR:6] \"жъде от сенату мѣсеца число i год о пъреслуш\" -> \"жюде от сенату мѣсеца кисла год опъреслуш\"\n",
      "[OK] \"в чем горазда смотрѣт чтоб людей\" -> \"в чем горазда смотрѣт чтоб людей\"\n",
      "[ERR:5] \"жет iз таго быт прибыл тож смотрѣт правѣдат\" -> \"же iз таго быт прибѣл тож сетрут правѣдат\"\n",
      "[OK] \"i ежели на той сторонѣ\" -> \"i ежели на той сторонѣ\"\n",
      "[OK] \"датской для транспорту\" -> \"датской для транспорту\"\n",
      "[ERR:1] \"крону тогда недасуг будет\" -> \"крону тогда не дасуг будет\"\n",
      "[OK] \"14 полукартауноф возможно было поставит\" -> \"14 полукартауноф возможно было поставит\"\n",
      "[OK] \"можно учинит\" -> \"можно учинит\"\n",
      "[OK] \"ду то скоро паки богу iзволшу к вам\" -> \"ду то скоро паки богу iзволшу к вам\"\n",
      "[OK] \"ругова указу не подават каролю\" -> \"ругова указу не подават каролю\"\n",
      "[OK] \"ку i для того какъ наперет сего так\" -> \"ку i для того какъ наперет сего так\"\n",
      "[ERR:4] \"равах а ежели ни одну\" -> \"равах о ежели на ому\"\n",
      "[ERR:1] \"гожды писал i нынѣ еще посылаю також\" -> \"гожды писал i нынѣеще посылаю також\"\n",
      "[ERR:1] \"не пъримут то б вам по тама\" -> \"не пъримут то б вам потама\"\n",
      "[ERR:1] \"что ежели iнгермонланской i астра\" -> \"что ежели iнгермотланской i астра\"\n",
      "[ERR:1] \"i дождафся потом учинит блакаду\" -> \"i дождафся потом учинит бласкаду\"\n",
      "[ERR:1] \"по лду достат\" -> \"полду достат\"\n",
      "[ERR:3] \"iз лагору 11 д iюля 1711 петръ\" -> \"iз лагору 1 д iюля 17к петръ\"\n",
      "[ERR:5] \"воды отставит а болшее прилежание\" -> \"въбьс от ставит а болшее прилежание\"\n",
      "[ERR:2] \"тому я вѣрю а что пишете как вам поступат с гол\" -> \"тому я вѣрю а что пишете как вам понтупат с пол\"\n",
      "[ERR:2] \"i далѣко а зарыты войском то\" -> \"i далѣко азары ты войском то\"\n",
      "[ERR:1] \"лутче мочъно здѣлат\" -> \"лутче мочьно здѣлат\"\n",
      "[ERR:7] \"кѣ сей город был пол7 дни\" -> \"а о сезй пород был пол ц дни\"\n",
      "[OK] \"но точию развѣ на малое\" -> \"но точию развѣ на малое\"\n",
      "[ERR:4] \"полѣ\" -> \"+\"\n",
      "[OK] \"ниi далеко отходит не надле\" -> \"ниi далеко отходит не надле\"\n",
      "[ERR:4] \"раниi сие писмо застанет то б лутче вам\" -> \"раниi сие писмо застано тоб луче вам\"\n",
      "[OK] \"лил а iменно около 5000\" -> \"лил а iменно около 5000\"\n",
      "[ERR:8] \"господ бог сподобил нас видет начало отмще\" -> \"господбод с подобил+ нас видет пачало от вмше\"\n",
      "[OK] \"удобнѣе в которою\" -> \"удобнѣе в которою\"\n",
      "[OK] \"господа сенат +\" -> \"господа сенат +\"\n",
      "[ERR:5] \"+ как чин шаутбейнанта так i сей мнѣ ска\" -> \"+ как чинкаутбейнанта так i сей мныка\"\n",
      "[ERR:7] \"то ж кож i ябедником да послѣдует\" -> \"то л квож i ябенико д послѣду i\"\n",
      "[OK] \"отдохнут] с помо оного с помощию божиею\" -> \"отдохнут] с помо оного с помощию божиею\"\n",
      "[ERR:5] \"тѣми же линѣям отянут можешь\" -> \"тѣми же линѣеро iтянут можешъ\"\n",
      "[ERR:3] \"поминая нынѣ в чер\" -> \"поминая н венѣ в чер\"\n",
      "[ERR:4] \"но такъ i дѣлаем поклон отдай теткѣ от меня\" -> \"но такъ i дѣлаем поллон отда итеткѣ отменя\"\n",
      "[ERR:1] \"же нѣсколко прослано бреш\" -> \"женѣсколко прослано бреш\"\n",
      "[ERR:1] \"вредит на квартирах а когда б сие с по\" -> \"вредит на квартерах а когда б сие с по\"\n",
      "[ERR:7] \"дѣла у нас зело было iзрядно пошло но от\" -> \"дѣла у нас зело бтоiзрядно почноноот\"\n",
      "[ERR:4] \"уйдет [которую нихто нигдѣ не по\" -> \"уйдет [которую них тошегдѣ не по\"\n",
      "[ERR:2] \"так весело что мочно чесною тюрмою наз\" -> \"так весело что мочно чесною тор мою наз\"\n",
      "[ERR:1] \"i нынѣ есть толко\" -> \"i нынѣесть толко\"\n",
      "[OK] \"50\" -> \"50\"\n",
      "[OK] \"питер\" -> \"питер\"\n",
      "[OK] \"жиею помощию не тол\" -> \"жиею помощию не тол\"\n",
      "[OK] \"отпустил для того что корона ево у\" -> \"отпустил для того что корона ево у\"\n",
      "[ERR:2] \" писем отправили с писмом к вам что сей трактат принят\" -> \"списем оправили с писмом к вам что сей трактат принят\"\n",
      "[ERR:2] \"1\" -> \"519\"\n",
      "[ERR:4] \"мнѣ въ элзенфорсѣ обявил іменем вашим чин полного гене\" -> \"мнѣ въ плзенфорсѣ обявил i менем вашим чит полного гене\"\n",
      "[OK] \"тож\" -> \"тож\"\n",
      "[OK] \"ту представъляя всѣ\" -> \"ту представъляя всѣ\"\n",
      "[ERR:2] \"сиiской край то в бѣлъгород посадит полкъ iли\" -> \"сиiской крайто в бѣлъ город посадит полкъ iли\"\n",
      "[ERR:4] \"человѣк в шеренгѣ iт iду\" -> \"человѣл в шеренгѣ ю i ду\"\n",
      "[ERR:1] \"ку указ есть в наших\" -> \"ку указ есть в нашис\"\n",
      "[ERR:1] \"петръ\" -> \"етръ\"\n",
      "[ERR:1] \"орел для защищения оного столпа\" -> \"отрел для защищения оного столпа\"\n",
      "[ERR:1] \"шталмейстеру протиф капитана\" -> \"штал мейстеру протиф капитана\"\n",
      "[ERR:1] \"i чтоб горазда тово смотрѣт что препор\" -> \"i чтоб горазда таво смотрѣт что препор\"\n",
      "[ERR:1] \"а когда не iмѣем нужда оных флатироват\" -> \"а когда не iмѣем нужда оных длатироват\"\n",
      "[OK] \"6\" -> \"6\"\n",
      "[OK] \"того мѣста гдѣ непърия\" -> \"того мѣста гдѣ непърия\"\n",
      "[ERR:2] \"тит до силы непъриятеля\" -> \"тит довилы непъриятеля\"\n",
      "[ERR:1] \"для по консилиi бывъшем\" -> \"для поконсилиi бывъшем\"\n",
      "[ERR:5] \"отвѣтъ писмо ваше получили\" -> \"евътѣ писмо вашеполучили\"\n",
      "[ERR:5] \"туракъ а сей я викториі могу і я причасником быт\" -> \"туракъ а сей о вик ториi могу i я причасником быр\"\n",
      "[ERR:3] \"по фъсѣм обстоятелствам\" -> \"по фъсѣ обстоятелсте вам\"\n",
      "[ERR:4] \"нелзя ниже море осушит а хотя б\" -> \"нелзя ни же море осушит е хотяж\"\n",
      "[OK] \"товары которыя на откупах\" -> \"товары которыя на откупах\"\n",
      "[OK] \"то i ему дѣлат нѣчево\" -> \"то i ему дѣлат нѣчево\"\n",
      "[ERR:10] \"тами да пят блокъшхипен\" -> \"тимил бдпят блкѣ шхи пет\"\n",
      "[OK] \"сецы оного дворянина сюды выслали +\" -> \"сецы оного дворянина сюды выслали +\"\n",
      "[ERR:3] \"по трети карабли оныя по шездесят i по\" -> \"по трети караабли оныя пошез десят i по\"\n",
      "[ERR:1] \"сторание приложит надлежит хотя б\" -> \"сторание приложит тадлежит хотя б\"\n",
      "[ERR:2] \"рой хотя i боронил оныя прекрѣпъкия пасажи\" -> \"рой хотя iборонил оныя прексѣпъкия пасажи\"\n",
      "[ERR:1] \"щию божиею офензиве сию компанию\" -> \"щию божиею офензивесию компанию\"\n",
      "[OK] \"дет то б оной корсъ от\" -> \"дет то б оной корсъ от\"\n",
      "[ERR:2] \"н 3 ю\" -> \"н3ю\"\n",
      "[OK] \"въ 2 д декабря 1712\" -> \"въ 2 д декабря 1712\"\n",
      "[OK] \"ли iли нѣт тѣ городы i будет\" -> \"ли iли нѣт тѣ городы i будет\"\n",
      "[ERR:2] \"ротиф его союзникофъ\" -> \"ротиоф его союнникофъ\"\n",
      "[OK] \"сказываютца что голанцы [которых\" -> \"сказываютца что голанцы [которых\"\n",
      "[ERR:2] \"ктам что iнако невозможно i лутче рятом iтит\" -> \"к там что iнако невозможно i лутчерятом iтит\"\n",
      "[OK] \"лат тотчах указ чтоб шли карабли кото\" -> \"лат тотчах указ чтоб шли карабли кото\"\n",
      "[ERR:5] \"борствер\" -> \"борю\"\n",
      "[OK] \"равую сторону от друго\" -> \"равую сторону от друго\"\n",
      "[ERR:37] \"+ как уже вы сами указ от том iменем ег в\" -> \"+ ет\"\n",
      "[OK] \"винцию с малым уроном людей своiх\" -> \"винцию с малым уроном людей своiх\"\n",
      "[ERR:1] \"сите i к нам оной пришли\" -> \"сите i кнам оной пришли\"\n",
      "[OK] \"весть как возможно медленно дабы в конце\" -> \"весть как возможно медленно дабы в конце\"\n",
      "[ERR:2] \"талион i гварнизон элбинской\" -> \"талион i гварлиизон элбинской\"\n",
      "[OK] \"за которыми батали\" -> \"за которыми батали\"\n",
      "[ERR:1] \"ния от татар удержалис там а ко\" -> \"ния оттатар удержалис там а ко\"\n",
      "[ERR:1] \"мы сюды прибыли въ 29 д авъгуста\" -> \"мы сюды прибыли въ 29 д авъгута\"\n",
      "[ERR:13] \"что пред сим iз шеенгозена писал я к вам\" -> \"что пресиу спенрозена пишя к вам\"\n",
      "[ERR:3] \"възял i въ сих днях стралзунтъ осажден будет\" -> \"възял i въ сих днях стралзуттъ осажден буят\"\n",
      "[ERR:1] \"безапосения надлежит вам два дѣла преж\" -> \"беза посения надлежит вам два дѣла преж\"\n",
      "[ERR:1] \"быт а я указ к боуру послал велѣлъ вам\" -> \"быт а я указ к боуру послал велѣлъ ва\"\n",
      "[ERR:1] \"тогъда б i руских по пъре\" -> \"тогъда н i руских по пъре\"\n",
      "[OK] \"юшей разсудит что полез\" -> \"юшей разсудит что полез\"\n",
      "[ERR:1] \"ну что начнут что же голстинцы к сему зѣло\" -> \"ну что начнут что же голстинцы к сему зѣко\"\n",
      "[OK] \"обявъляю вам что мы слава богу въ 5 д сего\" -> \"обявъляю вам что мы слава богу въ 5 д сего\"\n",
      "[ERR:1] \"конницы сказывая что доволно iх\" -> \"конницы ссказывая что доволно iх\"\n",
      "[ERR:1] \"указ к смаевичю\" -> \"указ к смаевичь\"\n",
      "[OK] \"ет\" -> \"ет\"\n",
      "[ERR:3] \"необходимая есть нужда сыскат нѣсколко лоцманоф\" -> \"необлодима я есть нужда сыскат нѣсколколоцманоф\"\n",
      "[ERR:1] \"мѣсте iмѣет быт по данному\" -> \"мѣсте iмѣет быт поданному\"\n",
      "[ERR:1] \"нит\" -> \"наит\"\n",
      "[ERR:5] \"мемория господину адмиралу\" -> \"мемория гогодине адми раму\"\n",
      "[ERR:2] \"iх ворофъство опровергнут тол\" -> \"i ворофъство о провергнут тол\"\n",
      "[OK] \"дѣла которое вам обявит\" -> \"дѣла которое вам обявит\"\n",
      "[OK] \"здѣлат толстой борстъверкъ\" -> \"здѣлат толстой борстъверкъ\"\n",
      "[ERR:2] \"циi но уже починены толко нѣсколко ба\" -> \"циiно уже починены толко нѣсколко бя\"\n",
      "[ERR:2] \"тракту а нам время тепер зело нужно\" -> \"тракту а нам времятепер зело нмужно\"\n",
      "[OK] \"чаю не без притиску будет\" -> \"чаю не без притиску будет\"\n",
      "[OK] \"наперет також i пѣхотѣ\" -> \"наперет також i пѣхотѣ\"\n",
      "[OK] \"на что я вам обявъляю что о та\" -> \"на что я вам обявъляю что о та\"\n",
      "[ERR:1] \"буде же станут отгова\" -> \"буде же стану отгова\"\n",
      "[ERR:2] \"ное прегрешение оставъляетца на с\" -> \"ное прегрешение остевъляетца нас\"\n",
      "[OK] \"ли так непъриятел силен будет что\" -> \"ли так непъриятел силен будет что\"\n",
      "[ERR:2] \"в один i к тому\" -> \"водин i к тоу\"\n",
      "[ERR:1] \"ты [на что ответствую] что ежели до\" -> \"ты [на что отвѣтствую] что ежели до\"\n",
      "[ERR:3] \"+ совершершенно лутче б было\" -> \"+ совершешенно лутчер было\"\n",
      "Character error rate: 8.375635%. Word error rate: 35.463259%. String accuracy: 31.203931%.\n"
     ]
    }
   ],
   "source": [
    "numCharErr = 0\n",
    "numCharTotal = 0\n",
    "numStringOK = 0\n",
    "numStringTotal = 0\n",
    "\n",
    "word_eds, word_true_lens = [], []\n",
    "\n",
    "print('Ground truth -> Recognized')\t\n",
    "for i in range(len(out)):\n",
    "    pred = ''\n",
    "    for p in out[i]:\n",
    "        if int(p) != -1:\n",
    "            pred+=letters[int(p)]\n",
    "    true = val_original_text[i]\n",
    "    \n",
    "    numStringOK += 1 if true == pred else 0\n",
    "    numStringTotal += 1\n",
    "    dist = editdistance.eval(pred, true)\n",
    "    numCharErr += dist\n",
    "    numCharTotal += len(true)\n",
    "    \n",
    "    pred_words = pred.split()\n",
    "    true_words = true.split()\n",
    "    word_eds.append(editdistance.eval(pred_words, true_words))\n",
    "    word_true_lens.append(len(true_words))\n",
    "    \n",
    "    print('[OK]' if dist==0 else '[ERR:%d]' % dist,'\"' + true + '\"', '->', '\"' + pred + '\"')\n",
    "\n",
    "charErrorRate = numCharErr / numCharTotal\n",
    "wordErrorRate = sum(word_eds) / sum(word_true_lens) \n",
    "stringAccuracy = numStringOK / numStringTotal\n",
    "print('Character error rate: %f%%. Word error rate: %f%%. String accuracy: %f%%.' % \\\n",
    "      (charErrorRate*100.0,wordErrorRate*100.0, stringAccuracy*100.0))"
   ]
  },
  {
   "cell_type": "code",
   "execution_count": null,
   "id": "c95fd653-4457-4aa3-910f-2a039f02a607",
   "metadata": {},
   "outputs": [],
   "source": []
  }
 ],
 "metadata": {
  "kernelspec": {
   "display_name": "Python 3",
   "language": "python",
   "name": "python3"
  },
  "language_info": {
   "codemirror_mode": {
    "name": "ipython",
    "version": 3
   },
   "file_extension": ".py",
   "mimetype": "text/x-python",
   "name": "python",
   "nbconvert_exporter": "python",
   "pygments_lexer": "ipython3",
   "version": "3.8.13"
  }
 },
 "nbformat": 4,
 "nbformat_minor": 5
}
